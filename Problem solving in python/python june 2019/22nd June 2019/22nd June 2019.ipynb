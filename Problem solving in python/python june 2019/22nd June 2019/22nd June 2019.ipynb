{
 "cells": [
  {
   "cell_type": "markdown",
   "metadata": {},
   "source": [
    "### File Handling\n",
    "- Basic file data processing\n",
    "    - Accessing and Modifying File data\n",
    "- Character count\n",
    "- Line count\n",
    "- File size\n",
    "- word count\n",
    "- Unique word count"
   ]
  },
  {
   "cell_type": "code",
   "execution_count": 2,
   "metadata": {},
   "outputs": [
    {
     "name": "stdout",
     "output_type": "stream",
     "text": [
      "e\n",
      "s\n",
      "d\n",
      "w\n",
      "r\n",
      "\n"
     ]
    }
   ],
   "source": [
    "# Read a file - file should exist\n",
    "# write a file - existing(append) or new file\n",
    "\n",
    "def readFile(filePath):\n",
    "    with open(filePath, 'r') as f:\n",
    "        filedata = f.read()\n",
    "    return filedata\n",
    "\n",
    "filePath = 'DataFiles/data.txt'\n",
    "print(readFile(filePath))"
   ]
  },
  {
   "cell_type": "code",
   "execution_count": 22,
   "metadata": {},
   "outputs": [
    {
     "name": "stdout",
     "output_type": "stream",
     "text": [
      "2\n",
      "5\n",
      "42\n"
     ]
    }
   ],
   "source": [
    "import os\n",
    " \n",
    "file_path = \"DataFiles/data.txt\"\n",
    "lines=0\n",
    "words=0\n",
    "characters=0\n",
    "with open( file_path,'r') as f:\n",
    "    for line in f:\n",
    "        line = line.strip(os.linesep)\n",
    "        wordslist=line.split()\n",
    "        lines=lines+1\n",
    "        words=words+len(wordslist)\n",
    "        characters=characters+ sum(1 for s in line if s not in (os.linesep, ' '))# u can use \" len(line)\" but it skip count \n",
    "                                                                               # spaces and new line also. \n",
    "print(lines)\n",
    "print(words)\n",
    "print(characters)"
   ]
  },
  {
   "cell_type": "code",
   "execution_count": null,
   "metadata": {},
   "outputs": [],
   "source": []
  },
  {
   "cell_type": "code",
   "execution_count": 23,
   "metadata": {},
   "outputs": [
    {
     "ename": "SyntaxError",
     "evalue": "invalid syntax (<ipython-input-23-8d808b5752ed>, line 2)",
     "output_type": "error",
     "traceback": [
      "\u001b[1;36m  File \u001b[1;32m\"<ipython-input-23-8d808b5752ed>\"\u001b[1;36m, line \u001b[1;32m2\u001b[0m\n\u001b[1;33m    if os.path.isfile(filepath)\u001b[0m\n\u001b[1;37m                               ^\u001b[0m\n\u001b[1;31mSyntaxError\u001b[0m\u001b[1;31m:\u001b[0m invalid syntax\n"
     ]
    }
   ],
   "source": [
    "def filesize(num):\n",
    "    if os.path.isfile(filepath)\n",
    "    fileinfo = os.stat(filepath)\n",
    "    return\n",
    "convertbytes(fileinfo.size)\n",
    "filepath = r\"DataFIles/data.txt\"\n",
    "print filesize(filepath)"
   ]
  },
  {
   "cell_type": "code",
   "execution_count": null,
   "metadata": {},
   "outputs": [],
   "source": []
  }
 ],
 "metadata": {
  "kernelspec": {
   "display_name": "Python 3",
   "language": "python",
   "name": "python3"
  },
  "language_info": {
   "codemirror_mode": {
    "name": "ipython",
    "version": 3
   },
   "file_extension": ".py",
   "mimetype": "text/x-python",
   "name": "python",
   "nbconvert_exporter": "python",
   "pygments_lexer": "ipython3",
   "version": "3.7.3"
  }
 },
 "nbformat": 4,
 "nbformat_minor": 2
}
