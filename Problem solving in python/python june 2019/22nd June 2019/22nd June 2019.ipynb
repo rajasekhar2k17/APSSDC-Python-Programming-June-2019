{
 "cells": [
  {
   "cell_type": "markdown",
   "metadata": {},
   "source": [
    "### File Handling\n",
    "- Basic file data processing\n",
    "    - Accessing and Modifying File data\n",
    "- Character count\n",
    "- Line count\n",
    "- File size\n",
    "- word count\n",
    "- Unique word count"
   ]
  },
  {
   "cell_type": "code",
   "execution_count": 2,
   "metadata": {},
   "outputs": [
    {
     "name": "stdout",
     "output_type": "stream",
     "text": [
      "e\n",
      "s\n",
      "d\n",
      "w\n",
      "r\n",
      "\n"
     ]
    }
   ],
   "source": [
    "# Read a file - file should exist\n",
    "# write a file - existing(append) or new file\n",
    "\n",
    "def readFile(filePath):\n",
    "    with open(filePath, 'r') as f:\n",
    "        filedata = f.read()\n",
    "    return filedata\n",
    "\n",
    "filePath = 'DataFiles/data.txt'\n",
    "print(readFile(filePath))"
   ]
  },
  {
   "cell_type": "code",
   "execution_count": 22,
   "metadata": {},
   "outputs": [
    {
     "name": "stdout",
     "output_type": "stream",
     "text": [
      "2\n",
      "5\n",
      "42\n"
     ]
    }
   ],
   "source": [
    "import os\n",
    " \n",
    "file_path = \"DataFiles/data.txt\"\n",
    "lines=0\n",
    "words=0\n",
    "characters=0\n",
    "with open( file_path,'r') as f:\n",
    "    for line in f:\n",
    "        line = line.strip(os.linesep)\n",
    "        wordslist=line.split()\n",
    "        lines=lines+1\n",
    "        words=words+len(wordslist)\n",
    "        characters=characters+ sum(1 for s in line if s not in (os.linesep, ' '))# u can use \" len(line)\" but it skip count \n",
    "                                                                               # spaces and new line also. \n",
    "print(lines)\n",
    "print(words)\n",
    "print(characters)"
   ]
  },
  {
   "cell_type": "code",
   "execution_count": null,
   "metadata": {},
   "outputs": [],
   "source": []
  },
  {
   "cell_type": "raw",
   "metadata": {},
   "source": [
    "def charcountfile(filepath):\n",
    "    count = len(readfile(filepath))\n",
    "    return count\n",
    "charcountfile(filepath)\n",
    "    "
   ]
  },
  {
   "cell_type": "raw",
   "metadata": {},
   "source": [
    "import re\n",
    "\n",
    "def wordcounfile(filepath):\n",
    "    patern = '[\\n]'\n",
    "    filedata = readfile(filepath)\n",
    "    count = len(re.split(pattern, filedata))\n",
    "    return count\n",
    "\n",
    "wordcountfile(filepath)"
   ]
  },
  {
   "cell_type": "code",
   "execution_count": 4,
   "metadata": {},
   "outputs": [
    {
     "data": {
      "text/plain": [
       "[1, 2, 3]"
      ]
     },
     "execution_count": 4,
     "metadata": {},
     "output_type": "execute_result"
    }
   ],
   "source": [
    "# function to get unique element in a list\n",
    "# [1,2,3,3,2,1] -> [1,2,3]\n",
    "# create a empty unique list [1, 2,3]\n",
    "\n",
    "def uniqueData(li):\n",
    "    # create an empty unique list\n",
    "    unique = []\n",
    "        \n",
    "# for every element in the main list,\n",
    "# check if it exists in the unique list.\n",
    "#if it does not exist, add it to unique like\n",
    "#esle if it already exists, move on to the \n",
    "\n",
    "    for element in li:\n",
    "        if element not in unique:\n",
    "            unique.append(element)\n",
    "    return unique\n",
    "li = [1,2,3,3,2,1]\n",
    "uniqueData(li)\n",
    "    \n",
    "    "
   ]
  },
  {
   "cell_type": "code",
   "execution_count": 6,
   "metadata": {},
   "outputs": [
    {
     "name": "stdout",
     "output_type": "stream",
     "text": [
      "['rajasekhar', 'apssdc', 'ongole', 'prakasam', 'district'] lenght is: 5\n"
     ]
    }
   ],
   "source": [
    "# unique word count\n",
    "\n",
    "def uniquewordcount(filename):\n",
    "    count = 0\n",
    "    with open(filename,'r') as f:\n",
    "        filedata = f.read().split()\n",
    "        ls = []\n",
    "        for i in filedata:\n",
    "            if i not in ls:\n",
    "                ls.append(i)\n",
    "        print(ls,\"lenght is:\", len(ls))\n",
    "uniquewordcount('DataFiles/data.txt')"
   ]
  },
  {
   "cell_type": "code",
   "execution_count": 9,
   "metadata": {},
   "outputs": [
    {
     "name": "stdout",
     "output_type": "stream",
     "text": [
      "rajasekhar , 1\n",
      "apssdc , 2\n",
      "ongole , 1\n",
      "prakasam , 1\n",
      "district , 2\n",
      "Rajasekhar , 2\n",
      "vijayawada , 1\n",
      "krishna , 1\n",
      "Telukutla , 1\n",
      "Reddy , 1\n",
      "Hyderabad , 1\n"
     ]
    }
   ],
   "source": [
    "# function tp print the frequency  count of all words in a file\n",
    "\n",
    "# test case\n",
    "# data in line 1\n",
    "# data in line 2\n",
    "# data in line 3\n",
    "#o/p\n",
    "# data: 3\n",
    "# in : 3\n",
    "# line :3\n",
    "# 1:1\n",
    "# 2 : 1\n",
    "# 3: 1\n",
    "\n",
    "def uniquewordcount(filename):\n",
    "    count = 0\n",
    "    with open(filename,'r') as f:\n",
    "        filedata = f.read().split()\n",
    "        ds = {}\n",
    "        ls = []\n",
    "        for i in range(0,len(filedata)):\n",
    "            count = 0\n",
    "            temp = []\n",
    "            if filedata[i] in filedata:\n",
    "                for j in range(0,len(filedata)):\n",
    "                    if(filedata[i] == filedata[j]):\n",
    "                        count += 1\n",
    "                        temp.append(filedata[i])\n",
    "            ds[filedata[i]] = temp\n",
    "        for key in ds:\n",
    "            print(key,\",\",len(ds[key]))\n",
    "            \n",
    "uniquewordcount('DataFiles/data.txt')\n",
    "                "
   ]
  },
  {
   "cell_type": "code",
   "execution_count": null,
   "metadata": {},
   "outputs": [],
   "source": [
    "# contacts application\n",
    "\n",
    "# find and replace application\n",
    "\n"
   ]
  }
 ],
 "metadata": {
  "kernelspec": {
   "display_name": "Python 3",
   "language": "python",
   "name": "python3"
  },
  "language_info": {
   "codemirror_mode": {
    "name": "ipython",
    "version": 3
   },
   "file_extension": ".py",
   "mimetype": "text/x-python",
   "name": "python",
   "nbconvert_exporter": "python",
   "pygments_lexer": "ipython3",
   "version": "3.7.3"
  }
 },
 "nbformat": 4,
 "nbformat_minor": 2
}
