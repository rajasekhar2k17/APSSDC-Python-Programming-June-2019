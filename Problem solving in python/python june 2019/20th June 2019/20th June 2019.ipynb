{
 "cells": [
  {
   "cell_type": "markdown",
   "metadata": {},
   "source": [
    "### Objectives:\n",
    "\n",
    "- Regular Expression\n",
    "    - constructing regular expression for various use cases\n",
    "    - Regular expression module and related in python\n",
    "    - improving the contacts application with name and phone number validation\n",
    "- File Handling\n",
    "    - Test Files\n",
    "    - Upgrading the contacts application to store contact information in a text file"
   ]
  },
  {
   "cell_type": "code",
   "execution_count": null,
   "metadata": {},
   "outputs": [],
   "source": []
  },
  {
   "cell_type": "markdown",
   "metadata": {},
   "source": [
    "### Regualr Experssions\n",
    "\n",
    "- pattern matching\n",
    "- Symbolic Notation of a pattern \n",
    "    - pattern : Format which repeats \n",
    "    - pattern(RE) represents The set of all values that matches that pattern \n",
    "- [0-9]-> Any digit \n",
    "- [a-z] -> any lower case alphabet\n",
    "- [A-Z] -> Any upper case alphabet\n",
    "- [2  4 6 8] -> all single digit multiples of 2\n",
    "     or [8,6,4,2]\n",
    "    or  [6,8,2,4]\n",
    "    \n",
    "    - ^[0-9]{1}$ -> only single numbers\n",
    "    - ^[0-9]{3}$ -> only three digit will accepted\n",
    "    - ^[0-9]{3} -> without dollar symbol, it can add accept the number of first two digit and it will match the expression\n",
    "    - [0-9]{3}$ -> it will matches the last digit of the integer\n",
    "                -             -> all multiples of 5\n",
    "                -             -> all 10 digit numbers\n",
    "                -             -> validation phome number(India) ( start with 9876543210\n",
    "    "
   ]
  },
  {
   "cell_type": "code",
   "execution_count": null,
   "metadata": {},
   "outputs": [],
   "source": []
  }
 ],
 "metadata": {
  "kernelspec": {
   "display_name": "Python 3",
   "language": "python",
   "name": "python3"
  },
  "language_info": {
   "codemirror_mode": {
    "name": "ipython",
    "version": 3
   },
   "file_extension": ".py",
   "mimetype": "text/x-python",
   "name": "python",
   "nbconvert_exporter": "python",
   "pygments_lexer": "ipython3",
   "version": "3.7.3"
  }
 },
 "nbformat": 4,
 "nbformat_minor": 2
}
