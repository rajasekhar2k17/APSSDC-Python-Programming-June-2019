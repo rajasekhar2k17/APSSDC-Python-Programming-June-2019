{
 "cells": [
  {
   "cell_type": "markdown",
   "metadata": {},
   "source": [
    "### Objectives:\n",
    "\n",
    "- Regular Expression\n",
    "    - constructing regular expression for various use cases\n",
    "    - Regular expression module and related in python\n",
    "    - improving the contacts application with name and phone number validation\n",
    "- File Handling\n",
    "    - Test Files\n",
    "    - Upgrading the contacts application to store contact information in a text file"
   ]
  },
  {
   "cell_type": "code",
   "execution_count": null,
   "metadata": {},
   "outputs": [],
   "source": []
  },
  {
   "cell_type": "markdown",
   "metadata": {},
   "source": [
    "### Regualr Experssions\n",
    "\n",
    "- pattern matching\n",
    "- Symbolic Notation of a pattern \n",
    "    - pattern : Format which repeats \n",
    "    - pattern(RE) represents The set of all values that matches that pattern \n",
    "- [0-9]-> Any digit \n",
    "- [a-z] -> any lower case alphabet\n",
    "- [A-Z] -> Any upper case alphabet\n",
    "- [2  4 6 8] -> all single digit multiples of 2\n",
    "     or [8,6,4,2]\n",
    "    or  [6,8,2,4]\n",
    "    \n",
    "    - ^[0-9]{1}$ -> only single numbers\n",
    "    - ^[0-9]{3}$ -> only three digit will accepted\n",
    "    - ^[0-9]{3} -> without dollar symbol, it can add accept the number of first two digit and it will match the expression\n",
    "    - [0-9]{3}$ -> it will matches the last digit of the integer\n",
    "                - ^[1-9][0-9]*[5 or 0]$  -> all multiples of 5\n",
    "                -  ^[1-9][0-9]{9}$ -> all 10 digit numbers\n",
    "                -  ^[6789][0-9]{9}  -> validation phome number(India) ( start with 9876543210\n",
    "                - [0-9]|[p][r][i]|[0-9] -> matching with \"pri\" and \"digit\" \n",
    "    "
   ]
  },
  {
   "cell_type": "markdown",
   "metadata": {},
   "source": [
    "#### Validating Indian Number\n",
    "- ^[6-9][0-9]{9}$|^[0][6-9][0-9]{9}$ \n",
    "- for phone validating"
   ]
  },
  {
   "cell_type": "markdown",
   "metadata": {},
   "source": [
    "#### E-Mail validation(username@gomain.ext\n",
    "    - username\n",
    "        - length of usernamr :[6,15] character\n",
    "        - no special character other than _ .\n",
    "        - should not begin and end with _ .\n",
    "        character set : all digits and low case alphabet\n",
    "    - domain\n",
    "        - Lenght of domain : [3.10]\n",
    "        - No special characters\n",
    "        - character set: all digits and alphabet\n",
    "    - extension\n",
    "        - length of extension : [2,3]\n",
    "        - No special characters\n",
    "        - Chatacter set:alphabet\n",
    "        \n",
    " ^([a-z0-9][0-9a-z_.]{8,18})+.([@a-z]{4,8})+.([.a-z]{1,6})$"
   ]
  },
  {
   "cell_type": "markdown",
   "metadata": {},
   "source": [
    "#### problem - 4\n",
    "\n",
    "any string that given with any length of a stringStart with \"a\" and end with\"z\"\n",
    "\n",
    "^[a].*[z]$"
   ]
  },
  {
   "cell_type": "code",
   "execution_count": null,
   "metadata": {},
   "outputs": [],
   "source": []
  },
  {
   "cell_type": "code",
   "execution_count": 8,
   "metadata": {},
   "outputs": [
    {
     "data": {
      "text/plain": [
       "True"
      ]
     },
     "execution_count": 8,
     "metadata": {},
     "output_type": "execute_result"
    }
   ],
   "source": [
    "# function to validate a phone number\n",
    "\n",
    "import re\n",
    "\n",
    "def phonenumbervalidator(number):\n",
    "    pattern = '^[6-9][0-9]{9}$|^[0][6-9][0-9]{9}$|^[+][9][1][6-9][0-9]{9}$'\n",
    "    \n",
    "    if re.match(pattern, number):\n",
    "        print(\"valid number\")\n",
    "    else:\n",
    "        print(\"not a valid number\")\n",
    "        \n",
    "def emailvalidator(email):\n",
    "    pattern = '^([a-z0-9][0-9a-z_.]{8,18})+.([@a-z]{4,8})+.([.a-z]{1,6})$'\n",
    "    if re.match(pattern,email):\n",
    "        return True\n",
    "    return False\n",
    "emailvalidator(\"rajasekhar.r@apssdc.in\")\n",
    "        \n",
    "#phonenumbervalidator(\"9876445678\")"
   ]
  },
  {
   "cell_type": "code",
   "execution_count": 18,
   "metadata": {},
   "outputs": [
    {
     "name": "stdout",
     "output_type": "stream",
     "text": [
      "contact already exist\n"
     ]
    }
   ],
   "source": [
    "contact = {\"raj1\":[9500936544, 'rajasekhar.ra@apssdc.in']}\n",
    "\n",
    "def addcontact(name,phone,email):\n",
    "    \n",
    "    if name in contact:\n",
    "        print(\"contact already exist\")\n",
    "    else:\n",
    "        if not phonenumbervalidator(phone):\n",
    "            print(\"invalid phone number\")\n",
    "            return\n",
    "        if not emailvalidator(email):\n",
    "            print(\"Invalid Email Address\")\n",
    "            return\n",
    "        newcontact = []\n",
    "        newcontact.append(phone)\n",
    "        newcontact.append(email)\n",
    "        contact[name] = newcontact\n",
    "        return\n",
    "    \n",
    "addcontact(\"raj1\",\"9500936544\",\"rajasekhar.ra@apssdc.in\")"
   ]
  },
  {
   "cell_type": "code",
   "execution_count": null,
   "metadata": {},
   "outputs": [],
   "source": []
  },
  {
   "cell_type": "code",
   "execution_count": 20,
   "metadata": {},
   "outputs": [
    {
     "name": "stdout",
     "output_type": "stream",
     "text": [
      "1 contacts added successfully\n"
     ]
    }
   ],
   "source": [
    "# new contacts is given as a dictionary\n",
    "# merge new contacts with existing contacts\n",
    "def importcontacts(newcontacts):\n",
    "    contact.update(newcontacts)\n",
    "    print(len(newcontacts.keys()), \"contacts added successfully\")\n",
    "    return\n",
    "    \n",
    "newcontacts = {\"name4\":[9786543217,\"name4_123@gmail.com\"]}\n",
    "importcontacts(newcontacts)\n",
    "#contacts"
   ]
  },
  {
   "cell_type": "code",
   "execution_count": null,
   "metadata": {},
   "outputs": [],
   "source": []
  },
  {
   "cell_type": "code",
   "execution_count": null,
   "metadata": {},
   "outputs": [],
   "source": [
    "def searchcontact(name)\n",
    "if name in contact:\n",
    "    print(name)\n",
    "    print(\"phone:\", contact[name[0]])\n",
    "    print(\"email:\", contact[])"
   ]
  },
  {
   "cell_type": "code",
   "execution_count": null,
   "metadata": {},
   "outputs": [],
   "source": []
  },
  {
   "cell_type": "code",
   "execution_count": 26,
   "metadata": {},
   "outputs": [
    {
     "name": "stdout",
     "output_type": "stream",
     "text": [
      "raj1 \n",
      " phone: 9500936544 \n",
      " email rajasekhar.ra@apssdc.in\n",
      "name4 \n",
      " phone: 9786543217 \n",
      " email name4_123@gmail.com\n"
     ]
    }
   ],
   "source": [
    "# function to list all contact\n",
    "    \n",
    "def listallcontacts():\n",
    "    for contacts, info in contact.items():\n",
    "        print(contacts,\"\\n\",\"phone:\",info[0],\"\\n\",\"email\",info[1])\n",
    "    return\n",
    "listallcontacts()"
   ]
  },
  {
   "cell_type": "code",
   "execution_count": null,
   "metadata": {},
   "outputs": [],
   "source": []
  },
  {
   "cell_type": "code",
   "execution_count": null,
   "metadata": {},
   "outputs": [],
   "source": [
    " # function to modify contact information\n",
    "\n",
    "def editcontact(name,phone,email):\n",
    "    "
   ]
  },
  {
   "cell_type": "code",
   "execution_count": null,
   "metadata": {},
   "outputs": [],
   "source": []
  },
  {
   "cell_type": "markdown",
   "metadata": {},
   "source": [
    "### File Handling in Python"
   ]
  },
  {
   "cell_type": "markdown",
   "metadata": {},
   "source": [
    "File - Document containing information residing.\n",
    "\n",
    "types - Text , PDF, CSV etc.\n",
    "\n",
    "File I/O - Channeling I/O data to files.\n",
    "\n",
    "Default I/O channels - Keyboard / screen.\n",
    "\n",
    "Change I/O channel to files for reading and writing into files.\n",
    "\n",
    "Read a file - Input from file.\n",
    "\n",
    "write to a file - output to a file\n",
    "\n",
    "Read / write file - open(filename, mode)\n"
   ]
  },
  {
   "cell_type": "code",
   "execution_count": null,
   "metadata": {},
   "outputs": [],
   "source": []
  },
  {
   "cell_type": "code",
   "execution_count": 48,
   "metadata": {},
   "outputs": [
    {
     "name": "stdout",
     "output_type": "stream",
     "text": [
      "Rajasekhar\n",
      "APSSDC\n",
      "Andhra Pradesh\n",
      "\n"
     ]
    }
   ],
   "source": [
    "# function to read a file\n",
    "\n",
    "def readfile(filename):\n",
    "    f = open(filename, 'r')\n",
    "    filedata = f.read()\n",
    "    f.close()\n",
    "    return filedata\n",
    "\n",
    "filename = 'DataFiles/data.txt'\n",
    "filedata = readfile(filename)\n",
    "#for line in filedata.split('\\n'): \n",
    "\n",
    " #   print(line)\n",
    "    \n",
    "    \n",
    "# another method for reading file\n",
    "def printfiledatalines(filename):\n",
    "    with open(filename, 'r') as f:  # using \"with\" xxxxxx \"as f\" give us a finction that closes the file automatically\n",
    "        for line in f:\n",
    "            print(line,end='')\n",
    "        return\n",
    "#printfiledatalines(filename)\n",
    "\n",
    "print(readfile(filename))"
   ]
  },
  {
   "cell_type": "code",
   "execution_count": null,
   "metadata": {},
   "outputs": [],
   "source": []
  },
  {
   "cell_type": "code",
   "execution_count": null,
   "metadata": {},
   "outputs": [],
   "source": []
  },
  {
   "cell_type": "code",
   "execution_count": 50,
   "metadata": {},
   "outputs": [],
   "source": [
    "# function to write data inti a file\n",
    "\n",
    "def writeintofile(filename,filedata):\n",
    "    with open(filename, 'w') as f: # if we give \"a\" in place of  \"w\", it will append the data with saved data in the file \n",
    "                                    # if we give \"w\" in remove the saved data and write the file as new file\n",
    "        f.write(filedata)\n",
    "    return\n",
    "filename = 'DataFiles/data.txt'\n",
    "writeintofile(filename,\"new data\")"
   ]
  },
  {
   "cell_type": "code",
   "execution_count": null,
   "metadata": {},
   "outputs": [],
   "source": []
  }
 ],
 "metadata": {
  "kernelspec": {
   "display_name": "Python 3",
   "language": "python",
   "name": "python3"
  },
  "language_info": {
   "codemirror_mode": {
    "name": "ipython",
    "version": 3
   },
   "file_extension": ".py",
   "mimetype": "text/x-python",
   "name": "python",
   "nbconvert_exporter": "python",
   "pygments_lexer": "ipython3",
   "version": "3.7.3"
  }
 },
 "nbformat": 4,
 "nbformat_minor": 2
}
