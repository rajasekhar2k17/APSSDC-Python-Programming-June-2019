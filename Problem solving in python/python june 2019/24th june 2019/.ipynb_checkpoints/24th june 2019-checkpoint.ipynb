{
 "cells": [
  {
   "cell_type": "code",
   "execution_count": 2,
   "metadata": {},
   "outputs": [
    {
     "ename": "NameError",
     "evalue": "name 'wordsfromfile' is not defined",
     "output_type": "error",
     "traceback": [
      "\u001b[1;31m---------------------------------------------------------------------------\u001b[0m",
      "\u001b[1;31mNameError\u001b[0m                                 Traceback (most recent call last)",
      "\u001b[1;32m<ipython-input-2-b7ed788645b2>\u001b[0m in \u001b[0;36m<module>\u001b[1;34m\u001b[0m\n\u001b[0;32m     18\u001b[0m     \u001b[1;32mreturn\u001b[0m\u001b[1;33m\u001b[0m\u001b[1;33m\u001b[0m\u001b[0m\n\u001b[0;32m     19\u001b[0m \u001b[1;33m\u001b[0m\u001b[0m\n\u001b[1;32m---> 20\u001b[1;33m \u001b[0mFreqDistributionofWords\u001b[0m\u001b[1;33m(\u001b[0m\u001b[1;34m'DataFiles/data.txt'\u001b[0m\u001b[1;33m)\u001b[0m\u001b[1;33m\u001b[0m\u001b[1;33m\u001b[0m\u001b[0m\n\u001b[0m\u001b[0;32m     21\u001b[0m \u001b[1;33m\u001b[0m\u001b[0m\n",
      "\u001b[1;32m<ipython-input-2-b7ed788645b2>\u001b[0m in \u001b[0;36mFreqDistributionofWords\u001b[1;34m(filepath)\u001b[0m\n\u001b[0;32m     10\u001b[0m \u001b[1;33m\u001b[0m\u001b[0m\n\u001b[0;32m     11\u001b[0m     \u001b[1;31m# set\u001b[0m\u001b[1;33m\u001b[0m\u001b[1;33m\u001b[0m\u001b[1;33m\u001b[0m\u001b[0m\n\u001b[1;32m---> 12\u001b[1;33m     \u001b[0mallwords\u001b[0m \u001b[1;33m=\u001b[0m \u001b[0mwordsfromfile\u001b[0m\u001b[1;33m(\u001b[0m\u001b[0mfilepath\u001b[0m\u001b[1;33m)\u001b[0m\u001b[1;33m\u001b[0m\u001b[1;33m\u001b[0m\u001b[0m\n\u001b[0m\u001b[0;32m     13\u001b[0m     \u001b[0muniquewords\u001b[0m \u001b[1;33m=\u001b[0m \u001b[0muniquedata\u001b[0m\u001b[1;33m(\u001b[0m\u001b[0mfilepath\u001b[0m\u001b[1;33m)\u001b[0m\u001b[1;33m\u001b[0m\u001b[1;33m\u001b[0m\u001b[0m\n\u001b[0;32m     14\u001b[0m \u001b[1;33m\u001b[0m\u001b[0m\n",
      "\u001b[1;31mNameError\u001b[0m: name 'wordsfromfile' is not defined"
     ]
    }
   ],
   "source": [
    "# Frequency distribution of words\n",
    "def FreqDistributionofWords(filepath):\n",
    "    # Dictionary to be used\n",
    "    # keys -> unique words\n",
    "    # values -> count of unique words\n",
    "    \n",
    "    # two lists\n",
    "        # all words list - \n",
    "        # uniqueWords list -\n",
    "        \n",
    "    # set\n",
    "    allwords = wordsfromfile(filepath)\n",
    "    uniquewords = uniquedata(filepath)\n",
    "    \n",
    "    for word in uniquewords:\n",
    "        count = allwords.count(word)\n",
    "        print(word,':',count)\n",
    "    return\n",
    "\n",
    "FreqDistributionofWords('DataFiles/data.txt')\n",
    "    "
   ]
  },
  {
   "cell_type": "code",
   "execution_count": null,
   "metadata": {},
   "outputs": [],
   "source": [
    "# seconf method using dictionary of frquent dsitribution of unique word count\n",
    "\n",
    "def FreqDistributionofWords2(filepath):\n",
    "    allwords = wordsfromfile(filepath)\n",
    "    wordfrequency = {}\n",
    "    for word in allwords:\n",
    "        if word not in wordfrequency.keys():\n",
    "            wordfrequency[word] = 1\n",
    "        else:\n",
    "            wordfrequency[word] += 1\n",
    "    return wprdfrequency\n",
    "\n",
    "FreqDistributionofWords2(filepTH)\n",
    "\n",
    "\n",
    "                                    "
   ]
  },
  {
   "cell_type": "raw",
   "metadata": {},
   "source": [
    "# contacts application\n",
    "    #add, search, list, modify delete contact\n",
    "\n",
    "# find and replace application\n",
    "    # countthe total number of occurance of a word\n",
    "    # if word is existing \n",
    "    # Replace all occurance of a word with another word\n",
    "    \n",
    "# Marks analysis application\n",
    "    # generate marks file for n students\n",
    "    # input: marks text file - each line in text line contains marks of one student\n",
    "    \n",
    "    # Generates a report with the following information\n",
    "        # class average\n",
    "        # % of students passed\n",
    "        # % of students failed \n",
    "        # % of stidents with distinction "
   ]
  },
  {
   "cell_type": "code",
   "execution_count": 4,
   "metadata": {},
   "outputs": [
    {
     "name": "stdout",
     "output_type": "stream",
     "text": [
      "0 1 2 2 1 0 0 0 0 0 "
     ]
    }
   ],
   "source": [
    "# digit Frequency program\n",
    "# given a string s, consisting of alphabets and digits , find the frequency of each digit in a given string\n",
    "\n",
    "def uniquedata(allnumbers):\n",
    "    unique = []\n",
    "    for n in allnumbers:\n",
    "        if n not in unique:\n",
    "            unique.append(n)\n",
    "    return unique\n",
    "\n",
    "def digitFreq(s):\n",
    "    allnumbers = []\n",
    "    for i in s:\n",
    "        if i.isdigit():\n",
    "            allnumbers.append(i)\n",
    "    unique = uniquedata(allnumbers)\n",
    "    for i in range(0,10):\n",
    "        if str(i) not in unique:\n",
    "            print(0, end=' ')\n",
    "        else:\n",
    "            count = allnumbers.count(str(i))\n",
    "            print(count, end=' ')\n",
    "            \n",
    "digitFreq('123fhr234u')\n"
   ]
  },
  {
   "cell_type": "code",
   "execution_count": 7,
   "metadata": {},
   "outputs": [],
   "source": [
    "# function to generate marks data for n students\n",
    "from random import randint\n",
    "def generateMarks(n,lb,ub):\n",
    "    with open('DataFiles/marks.txt', 'w') as f:\n",
    "            \n",
    "        for i in range(0,n):\n",
    "            for j in range(0,6):\n",
    "                r = randint(lb,ub)\n",
    "                f.write(str(r) + ' ')\n",
    "            f.write('\\n')\n",
    "    return\n",
    "\n",
    "generateMarks(10,0,100)"
   ]
  },
  {
   "cell_type": "code",
   "execution_count": null,
   "metadata": {},
   "outputs": [],
   "source": []
  }
 ],
 "metadata": {
  "kernelspec": {
   "display_name": "Python 3",
   "language": "python",
   "name": "python3"
  },
  "language_info": {
   "codemirror_mode": {
    "name": "ipython",
    "version": 3
   },
   "file_extension": ".py",
   "mimetype": "text/x-python",
   "name": "python",
   "nbconvert_exporter": "python",
   "pygments_lexer": "ipython3",
   "version": "3.7.3"
  }
 },
 "nbformat": 4,
 "nbformat_minor": 2
}
