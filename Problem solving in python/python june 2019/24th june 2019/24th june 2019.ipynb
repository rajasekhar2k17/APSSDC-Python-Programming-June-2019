{
 "cells": [
  {
   "cell_type": "code",
   "execution_count": 12,
   "metadata": {},
   "outputs": [
    {
     "ename": "NameError",
     "evalue": "name 'wordsfromfile' is not defined",
     "output_type": "error",
     "traceback": [
      "\u001b[1;31m---------------------------------------------------------------------------\u001b[0m",
      "\u001b[1;31mNameError\u001b[0m                                 Traceback (most recent call last)",
      "\u001b[1;32m<ipython-input-12-b7ed788645b2>\u001b[0m in \u001b[0;36m<module>\u001b[1;34m\u001b[0m\n\u001b[0;32m     18\u001b[0m     \u001b[1;32mreturn\u001b[0m\u001b[1;33m\u001b[0m\u001b[1;33m\u001b[0m\u001b[0m\n\u001b[0;32m     19\u001b[0m \u001b[1;33m\u001b[0m\u001b[0m\n\u001b[1;32m---> 20\u001b[1;33m \u001b[0mFreqDistributionofWords\u001b[0m\u001b[1;33m(\u001b[0m\u001b[1;34m'DataFiles/data.txt'\u001b[0m\u001b[1;33m)\u001b[0m\u001b[1;33m\u001b[0m\u001b[1;33m\u001b[0m\u001b[0m\n\u001b[0m\u001b[0;32m     21\u001b[0m \u001b[1;33m\u001b[0m\u001b[0m\n",
      "\u001b[1;32m<ipython-input-12-b7ed788645b2>\u001b[0m in \u001b[0;36mFreqDistributionofWords\u001b[1;34m(filepath)\u001b[0m\n\u001b[0;32m     10\u001b[0m \u001b[1;33m\u001b[0m\u001b[0m\n\u001b[0;32m     11\u001b[0m     \u001b[1;31m# set\u001b[0m\u001b[1;33m\u001b[0m\u001b[1;33m\u001b[0m\u001b[1;33m\u001b[0m\u001b[0m\n\u001b[1;32m---> 12\u001b[1;33m     \u001b[0mallwords\u001b[0m \u001b[1;33m=\u001b[0m \u001b[0mwordsfromfile\u001b[0m\u001b[1;33m(\u001b[0m\u001b[0mfilepath\u001b[0m\u001b[1;33m)\u001b[0m\u001b[1;33m\u001b[0m\u001b[1;33m\u001b[0m\u001b[0m\n\u001b[0m\u001b[0;32m     13\u001b[0m     \u001b[0muniquewords\u001b[0m \u001b[1;33m=\u001b[0m \u001b[0muniquedata\u001b[0m\u001b[1;33m(\u001b[0m\u001b[0mfilepath\u001b[0m\u001b[1;33m)\u001b[0m\u001b[1;33m\u001b[0m\u001b[1;33m\u001b[0m\u001b[0m\n\u001b[0;32m     14\u001b[0m \u001b[1;33m\u001b[0m\u001b[0m\n",
      "\u001b[1;31mNameError\u001b[0m: name 'wordsfromfile' is not defined"
     ]
    }
   ],
   "source": [
    "# Frequency distribution of words\n",
    "def FreqDistributionofWords(filepath):\n",
    "    # Dictionary to be used\n",
    "    # keys -> unique words\n",
    "    # values -> count of unique words\n",
    "    \n",
    "    # two lists\n",
    "        # all words list - \n",
    "        # uniqueWords list -\n",
    "        \n",
    "    # set\n",
    "    allwords = wordsfromfile(filepath)\n",
    "    uniquewords = uniquedata(filepath)\n",
    "    \n",
    "    for word in uniquewords:\n",
    "        count = allwords.count(word)\n",
    "        print(word,':',count)\n",
    "    return\n",
    "\n",
    "FreqDistributionofWords('DataFiles/data.txt')\n",
    "    "
   ]
  },
  {
   "cell_type": "code",
   "execution_count": null,
   "metadata": {},
   "outputs": [],
   "source": [
    "# seconf method using dictionary of frquent dsitribution of unique word count\n",
    "\n",
    "def FreqDistributionofWords2(filepath):\n",
    "    allwords = wordsfromfile(filepath)\n",
    "    wordfrequency = {}\n",
    "    for word in allwords:\n",
    "        if word not in wordfrequency.keys():\n",
    "            wordfrequency[word] = 1\n",
    "        else:\n",
    "            wordfrequency[word] += 1\n",
    "    return wprdfrequency\n",
    "\n",
    "FreqDistributionofWords2(filepTH)\n",
    "\n",
    "\n",
    "                                    "
   ]
  },
  {
   "cell_type": "raw",
   "metadata": {},
   "source": [
    "# contacts application\n",
    "    #add, search, list, modify delete contact\n",
    "\n",
    "# find and replace application\n",
    "    # countthe total number of occurance of a word\n",
    "        - \n",
    "    # if word is existing \n",
    "    # Replace all occurance of a word with another word\n",
    "    \n",
    "# Marks analysis application\n",
    "    # generate marks file for n students\n",
    "    # input: marks text file - each line in text line contains marks of one student\n",
    "    \n",
    "    # Generates a report with the following information\n",
    "        # class average\n",
    "        # % of students passed\n",
    "        # % of students failed \n",
    "        # % of stidents with distinction "
   ]
  },
  {
   "cell_type": "code",
   "execution_count": 4,
   "metadata": {},
   "outputs": [
    {
     "name": "stdout",
     "output_type": "stream",
     "text": [
      "0 1 2 2 1 0 0 0 0 0 "
     ]
    }
   ],
   "source": [
    "# digit Frequency program\n",
    "# given a string s, consisting of alphabets and digits , find the frequency of each digit in a given string\n",
    "\n",
    "def uniquedata(allnumbers):\n",
    "    unique = []\n",
    "    for n in allnumbers:\n",
    "        if n not in unique:\n",
    "            unique.append(n)\n",
    "    return unique\n",
    "\n",
    "def digitFreq(s):\n",
    "    allnumbers = []\n",
    "    for i in s:\n",
    "        if i.isdigit():\n",
    "            allnumbers.append(i)\n",
    "    unique = uniquedata(allnumbers)\n",
    "    for i in range(0,10):\n",
    "        if str(i) not in unique:\n",
    "            print(0, end=' ')\n",
    "        else:\n",
    "            count = allnumbers.count(str(i))\n",
    "            print(count, end=' ')\n",
    "            \n",
    "digitFreq('123fhr234u')\n"
   ]
  },
  {
   "cell_type": "code",
   "execution_count": 3,
   "metadata": {},
   "outputs": [],
   "source": [
    "# function to generate marks data for n students\n",
    "from random import randint\n",
    "def generatemarks(n,lb,ub):\n",
    "    with open('DataFiles/marks.txt', 'w') as f:\n",
    "            \n",
    "        for i in range(0,n):\n",
    "#            for j in range(0,6):\n",
    "                r = randint(lb,ub)\n",
    "                f.write(str(r) +'\\n')\n",
    "#            f.write('\\n')\n",
    "    return\n",
    "    \n",
    "generatemarks(10,0,100)\n"
   ]
  },
  {
   "cell_type": "code",
   "execution_count": 4,
   "metadata": {},
   "outputs": [
    {
     "data": {
      "text/plain": [
       "52.8"
      ]
     },
     "execution_count": 4,
     "metadata": {},
     "output_type": "execute_result"
    }
   ],
   "source": [
    "# class avg\n",
    "# summ of students/student count\n",
    "def classaverage(filepath):\n",
    "    sum=0\n",
    "    count=0\n",
    "    with open(filepath,'r') as f:\n",
    "        for i in f:\n",
    "            data=int(i)\n",
    "            sum=sum+data\n",
    "#             l.append(i)\n",
    "            count=count+1\n",
    "    return sum/count\n",
    "    \n",
    "classaverage('DataFiles/marks.txt')"
   ]
  },
  {
   "cell_type": "code",
   "execution_count": 5,
   "metadata": {},
   "outputs": [
    {
     "data": {
      "text/plain": [
       "70.0"
      ]
     },
     "execution_count": 5,
     "metadata": {},
     "output_type": "execute_result"
    }
   ],
   "source": [
    "def passpercentage(filepath):\n",
    "    count=0\n",
    "    mc=0\n",
    "    with open(filepath,'r') as f:\n",
    "        for i in f:\n",
    "            mc=mc+1\n",
    "            if(int(i)>=35):\n",
    "                count=count+1\n",
    "        return (count/mc)*100\n",
    "passpercentage('DataFiles/marks.txt')"
   ]
  },
  {
   "cell_type": "code",
   "execution_count": 6,
   "metadata": {},
   "outputs": [
    {
     "name": "stdout",
     "output_type": "stream",
     "text": [
      "30.0\n"
     ]
    }
   ],
   "source": [
    "# fail  percentage\n",
    "def failedpercentage(filepath):\n",
    "    fcount=100-passpercentage(filepath)\n",
    "    print(fcount)\n",
    "failedpercentage('DataFiles/marks.txt')"
   ]
  },
  {
   "cell_type": "code",
   "execution_count": 7,
   "metadata": {},
   "outputs": [
    {
     "data": {
      "text/plain": [
       "0.3"
      ]
     },
     "execution_count": 7,
     "metadata": {},
     "output_type": "execute_result"
    }
   ],
   "source": [
    "def distinction(filepath):\n",
    "    count = 0\n",
    "    mc = 0\n",
    "    with open(filepath,'r') as f:\n",
    "        for i in f:\n",
    "            mc+=1*100\n",
    "            if(int(i)>=75):\n",
    "                count+=1\n",
    "        return (count/mc)*100\n",
    "distinction('DataFiles/marks.txt')\n",
    "            "
   ]
  },
  {
   "cell_type": "code",
   "execution_count": 8,
   "metadata": {},
   "outputs": [
    {
     "name": "stdout",
     "output_type": "stream",
     "text": [
      "1\n"
     ]
    }
   ],
   "source": [
    "# frequency highest mark\n",
    "\n",
    "def frequencyhighest(filepath):\n",
    "    with open(filepath,'r') as f:\n",
    "        sp=f.read().split()\n",
    "        sp=list(map(int,sp))\n",
    "       # print(max(sp))\n",
    "        print(sp.count(max(sp)))\n",
    "        \n",
    "frequencyhighest('DataFiles/marks.txt')\n"
   ]
  },
  {
   "cell_type": "code",
   "execution_count": 9,
   "metadata": {},
   "outputs": [
    {
     "data": {
      "text/plain": [
       "1"
      ]
     },
     "execution_count": 9,
     "metadata": {},
     "output_type": "execute_result"
    }
   ],
   "source": [
    "# frequency lowest mark\n",
    "\n",
    "def frequencylowest(filepath):\n",
    "    with open(filepath,'r') as f:\n",
    "        sp=f.read().split()\n",
    "        sp=list(map(int,sp))\n",
    "        return sp.count(min(sp))\n",
    "        \n",
    "frequencylowest('DataFiles/marks.txt')"
   ]
  },
  {
   "cell_type": "code",
   "execution_count": 11,
   "metadata": {},
   "outputs": [
    {
     "name": "stdout",
     "output_type": "stream",
     "text": [
      "Choose option :\n",
      "1).Generation Marks\n",
      "2).Class Average\n",
      "3).passed Percentage\n",
      "4).Failed Percentage\n",
      "5).Dictintion percentage\n",
      "6).Frequency of highest\n",
      "7).Frequency of lowest\n",
      "1\n",
      "Enter No of Students marks80\n",
      "Choose option :\n",
      "1).Generation Marks\n",
      "2).Class Average\n",
      "3).passed Percentage\n",
      "4).Failed Percentage\n",
      "5).Dictintion percentage\n",
      "6).Frequency of highest\n",
      "7).Frequency of lowest\n",
      "2\n",
      "48.525\n",
      "Choose option :\n",
      "1).Generation Marks\n",
      "2).Class Average\n",
      "3).passed Percentage\n",
      "4).Failed Percentage\n",
      "5).Dictintion percentage\n",
      "6).Frequency of highest\n",
      "7).Frequency of lowest\n",
      "3\n",
      "68.75\n",
      "Choose option :\n",
      "1).Generation Marks\n",
      "2).Class Average\n",
      "3).passed Percentage\n",
      "4).Failed Percentage\n",
      "5).Dictintion percentage\n",
      "6).Frequency of highest\n",
      "7).Frequency of lowest\n",
      "4\n",
      "31.25\n",
      "None\n",
      "Choose option :\n",
      "1).Generation Marks\n",
      "2).Class Average\n",
      "3).passed Percentage\n",
      "4).Failed Percentage\n",
      "5).Dictintion percentage\n",
      "6).Frequency of highest\n",
      "7).Frequency of lowest\n",
      "5\n",
      "0.21250000000000002\n",
      "Choose option :\n",
      "1).Generation Marks\n",
      "2).Class Average\n",
      "3).passed Percentage\n",
      "4).Failed Percentage\n",
      "5).Dictintion percentage\n",
      "6).Frequency of highest\n",
      "7).Frequency of lowest\n",
      "6\n",
      "1\n",
      "None\n",
      "Choose option :\n",
      "1).Generation Marks\n",
      "2).Class Average\n",
      "3).passed Percentage\n",
      "4).Failed Percentage\n",
      "5).Dictintion percentage\n",
      "6).Frequency of highest\n",
      "7).Frequency of lowest\n",
      "7\n",
      "2\n",
      "Choose option :\n",
      "1).Generation Marks\n",
      "2).Class Average\n",
      "3).passed Percentage\n",
      "4).Failed Percentage\n",
      "5).Dictintion percentage\n",
      "6).Frequency of highest\n",
      "7).Frequency of lowest\n",
      "8\n"
     ]
    }
   ],
   "source": [
    "def marksanalysis(filepath):\n",
    "    \n",
    "    while True:    \n",
    "        n=int(input(\"Choose option :\\n1).Generation Marks\\n2).Class Average\\n3).passed Percentage\\n4).Failed Percentage\\n5).Dictintion percentage\\n6).Frequency of highest\\n7).Frequency of lowest\\n\"))\n",
    "        if(n==1):\n",
    "            st=int(input(\"Enter No of Students marks\"))\n",
    "            generatemarks(st,1,100)\n",
    "        elif(n==2):\n",
    "            print(classaverage(filepath))\n",
    "        elif(n==3):\n",
    "            print(passpercentage(filepath))\n",
    "        elif(n==4):\n",
    "            print(failedpercentage(filepath))\n",
    "        elif(n==5):\n",
    "            print(distinction(filepath))\n",
    "        elif(n==6):\n",
    "            print(frequencyhighest(filepath))\n",
    "        elif(n==7):\n",
    "            print(frequencylowest(filepath))\n",
    "        else:\n",
    "            break\n",
    "marksanalysis('DataFiles/marks.txt')"
   ]
  },
  {
   "cell_type": "code",
   "execution_count": 14,
   "metadata": {},
   "outputs": [
    {
     "data": {
      "text/plain": [
       "False"
      ]
     },
     "execution_count": 14,
     "metadata": {},
     "output_type": "execute_result"
    }
   ],
   "source": [
    "#function to check if two string \n",
    "\n",
    "def checkanagrams(s1,s2):\n",
    "    if len(s1) != len(s2):\n",
    "        return False\n",
    "    if sorted(s1) == sorted(s2):\n",
    "        return True\n",
    "    return False\n",
    "checkanagrams('abc','bdc')\n",
    "\n",
    "def chardeletionanagram"
   ]
  },
  {
   "cell_type": "markdown",
   "metadata": {},
   "source": [
    "- function to check if two string\n",
    "    - abc cba -> true\n",
    "    - {a:1, b:1,c:1} { c:1, a:1, b:1}\n",
    "    - aabbcc ccbbaaa -> False\n",
    "    - aabbcc aaabbcc\n",
    "    - {a:2,b:2,c:2} {a:3,b:2,c:2}\n",
    "    "
   ]
  }
 ],
 "metadata": {
  "kernelspec": {
   "display_name": "Python 3",
   "language": "python",
   "name": "python3"
  },
  "language_info": {
   "codemirror_mode": {
    "name": "ipython",
    "version": 3
   },
   "file_extension": ".py",
   "mimetype": "text/x-python",
   "name": "python",
   "nbconvert_exporter": "python",
   "pygments_lexer": "ipython3",
   "version": "3.7.3"
  }
 },
 "nbformat": 4,
 "nbformat_minor": 2
}
