{
 "cells": [
  {
   "cell_type": "code",
   "execution_count": 4,
   "metadata": {},
   "outputs": [
    {
     "name": "stdout",
     "output_type": "stream",
     "text": [
      "2\n",
      "3\n",
      "6\n",
      "YES\n",
      "5\n",
      "NO\n",
      "1\n",
      "NO\n"
     ]
    }
   ],
   "source": [
    "# function to determine if a number is special number or not\n",
    "\n",
    "def specialnumber(n,p):\n",
    "    if numberprimefactors(n) >= p:\n",
    "        return True\n",
    "    return False\n",
    "\n",
    "# function to check if number is prime\n",
    "def isprime(n):\n",
    "    flag = 1\n",
    "    if n == 2:\n",
    "        return True\n",
    "    for i in range(2,n//2 +1):\n",
    "        if n% i == 0:\n",
    "            flag = 0 \n",
    "            return False\n",
    "    if flag == 1:\n",
    "        return True\n",
    "#isprime(30)       \n",
    "\n",
    "\n",
    "# function to determine no of prime factors for given number\n",
    "\n",
    "def numberprimefactors(n):\n",
    "    if isprime(n):\n",
    "        return 1\n",
    "    count = 0\n",
    "    for i in range (2, n//2+1):\n",
    "        if isprime(i) and n % i == 0:\n",
    "            count += 1\n",
    "    return count\n",
    "\n",
    "#numberprimefactors(30)\n",
    "\n",
    "specialnumber(2,4)\n",
    "\n",
    "###### solution 2 for special number\n",
    "def  solution2():\n",
    "    p = int(input())\n",
    "    t = int(input())\n",
    "    for i in range(0,t):\n",
    "        n = int(input())\n",
    "        if specialnumber(n,p):\n",
    "            print (\"YES\")\n",
    "        else:\n",
    "            print(\"NO\")\n",
    "            \n",
    "solution2()\n"
   ]
  },
  {
   "cell_type": "markdown",
   "metadata": {},
   "source": [
    "####  highest remainder\n",
    "write a program to find a natural number that is smaller than Ngives the highest remainder when divided by that number\n",
    "if there is more than one such number, print the smallest one\n",
    "\n",
    "n\n",
    "highest =0\n",
    "x<N and n%x== highest\n",
    "\n",
    "10\n",
    "div 9 rem 1\n",
    "8 2\n",
    "7 3\n",
    "6 4\n",
    "5 0\n",
    "4 2\n",
    "3 1\n",
    "\n",
    "30 \n",
    "1\n",
    "2\n",
    "3\n",
    "4\n",
    "5\n",
    "6\n",
    "7\n",
    "\n"
   ]
  },
  {
   "cell_type": "code",
   "execution_count": 13,
   "metadata": {},
   "outputs": [
    {
     "name": "stdout",
     "output_type": "stream",
     "text": [
      "16\n"
     ]
    }
   ],
   "source": [
    "def  highestremainder(n):\n",
    "    hr = 0\n",
    "    v = n\n",
    "    for i in range(n-1, n//2 ,-1):\n",
    "        r = n % i\n",
    "        if r > hr:\n",
    "            hr = r\n",
    "            v = i\n",
    "    print(v)\n",
    "    return\n",
    "highestremainder(30)"
   ]
  }
 ],
 "metadata": {
  "kernelspec": {
   "display_name": "Python 3",
   "language": "python",
   "name": "python3"
  },
  "language_info": {
   "codemirror_mode": {
    "name": "ipython",
    "version": 3
   },
   "file_extension": ".py",
   "mimetype": "text/x-python",
   "name": "python",
   "nbconvert_exporter": "python",
   "pygments_lexer": "ipython3",
   "version": "3.7.3"
  }
 },
 "nbformat": 4,
 "nbformat_minor": 2
}
