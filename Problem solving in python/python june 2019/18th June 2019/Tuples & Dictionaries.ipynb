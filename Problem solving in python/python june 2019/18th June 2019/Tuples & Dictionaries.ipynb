{
 "cells": [
  {
   "cell_type": "markdown",
   "metadata": {},
   "source": [
    "##  Tuples"
   ]
  },
  {
   "cell_type": "markdown",
   "metadata": {},
   "source": [
    "t1 = ()\n",
    "li = []\n",
    "\n",
    "difference between lists and tuples\n",
    "- lists are mutable, can be changes / modified\n",
    "    - Access, modify and delete data\n",
    "- Tuples are immutable -cannot be changed once initialised\n",
    "    - used to access data only"
   ]
  },
  {
   "cell_type": "code",
   "execution_count": 11,
   "metadata": {},
   "outputs": [
    {
     "data": {
      "text/plain": [
       "tuple"
      ]
     },
     "execution_count": 11,
     "metadata": {},
     "output_type": "execute_result"
    }
   ],
   "source": [
    "t1 = (1,2,3,4,5)\n",
    "t1[3]        ### accessog the fourth element\n",
    "\n",
    "# Accessing all elements from middle to last\n",
    "t1[-3::]\n",
    "t1[len(t1)//2:]\n",
    "\n",
    "type(t1)"
   ]
  },
  {
   "cell_type": "markdown",
   "metadata": {},
   "source": [
    "##  Dictionaries"
   ]
  },
  {
   "cell_type": "markdown",
   "metadata": {},
   "source": [
    "it works on the concept of set\n",
    "unique Data\n",
    "\n",
    "Key, Values\n",
    "Key is the unique identifier for a value\n",
    "value is data that can be accessed with a key"
   ]
  },
  {
   "cell_type": "code",
   "execution_count": 21,
   "metadata": {},
   "outputs": [
    {
     "data": {
      "text/plain": [
       "True"
      ]
     },
     "execution_count": 21,
     "metadata": {},
     "output_type": "execute_result"
    }
   ],
   "source": [
    "d1 = {\"k1\":\"values\",\"k2\":\"values\"}\n",
    "d1[\"k2\"] # accessing the value with key \"k2\"\n",
    "d1.keys() # return the list of all keys\n",
    "d1.values() # return list of all values\n",
    "d1.items() # returns list of tuples of keys and value\n",
    "d1[\"k3\"] = \"values3\"  # adding an element to dictionay\n",
    "d1[\"k3\"] = \" values4\" # upadting an elemnt to dictionary\n",
    "d1.pop(\"k3\") # removing the element\n",
    "d1\n",
    "\"k1\" in d1\n"
   ]
  },
  {
   "cell_type": "markdown",
   "metadata": {},
   "source": []
  },
  {
   "cell_type": "markdown",
   "metadata": {},
   "source": [
    "### Contacts application\n",
    "- Search for contact\n",
    "- list all contact\n",
    "- modufy contact\n",
    "- remove contact\n",
    "- import contacts"
   ]
  },
  {
   "cell_type": "code",
   "execution_count": 30,
   "metadata": {},
   "outputs": [
    {
     "name": "stdout",
     "output_type": "stream",
     "text": [
      "contact raj added\n"
     ]
    }
   ],
   "source": [
    "contact = {}\n",
    "\n",
    "def addcontact(name,phone):\n",
    "    # verify that the contact doesnot already exist\n",
    "    if name not in contact:\n",
    "        contact[name] = phone\n",
    "        print(\"contact %s added\" % name)\n",
    "    else:\n",
    "        print(\"contact already exist\" % name)\n",
    "    return\n",
    "addcontact(\"raj\",\"8500936544\")"
   ]
  },
  {
   "cell_type": "code",
   "execution_count": 26,
   "metadata": {},
   "outputs": [
    {
     "data": {
      "text/plain": [
       "{'raj': '8500936544'}"
      ]
     },
     "execution_count": 26,
     "metadata": {},
     "output_type": "execute_result"
    }
   ],
   "source": [
    "contact"
   ]
  },
  {
   "cell_type": "code",
   "execution_count": 28,
   "metadata": {},
   "outputs": [
    {
     "name": "stdout",
     "output_type": "stream",
     "text": [
      "raja contact doesnot exits\n"
     ]
    }
   ],
   "source": [
    "def searchcontact(name):\n",
    "    if name in contact:\n",
    "        print(name,\":\", contact[name])\n",
    "    else:\n",
    "        print(\"%s contact doesnot exits\" % name)\n",
    "    return\n",
    "searchcontact(\"raja\")"
   ]
  },
  {
   "cell_type": "code",
   "execution_count": 40,
   "metadata": {},
   "outputs": [
    {
     "name": "stdout",
     "output_type": "stream",
     "text": [
      "2 contacts added successfully\n"
     ]
    }
   ],
   "source": [
    "# new contacts is given as a dictionary\n",
    "# merge new contacts with existing contacts\n",
    "def importcontacts(newcontacts):\n",
    "    contact.update(newcontacts)\n",
    "    print(len(newcontacts.keys()), \"contacts added successfully\")\n",
    "    return\n",
    "    \n",
    "newcontacts = {\"name2\":38473947, \"name\":927392497}\n",
    "importcontacts(newcontacts)"
   ]
  },
  {
   "cell_type": "code",
   "execution_count": 44,
   "metadata": {},
   "outputs": [
    {
     "ename": "AttributeError",
     "evalue": "'str' object has no attribute 'pop'",
     "output_type": "error",
     "traceback": [
      "\u001b[1;31m---------------------------------------------------------------------------\u001b[0m",
      "\u001b[1;31mAttributeError\u001b[0m                            Traceback (most recent call last)",
      "\u001b[1;32m<ipython-input-44-def3856a6e75>\u001b[0m in \u001b[0;36m<module>\u001b[1;34m\u001b[0m\n\u001b[0;32m      7\u001b[0m \u001b[1;33m\u001b[0m\u001b[0m\n\u001b[0;32m      8\u001b[0m \u001b[1;31m#deletecontact = {\"name\":934793479}\u001b[0m\u001b[1;33m\u001b[0m\u001b[1;33m\u001b[0m\u001b[1;33m\u001b[0m\u001b[0m\n\u001b[1;32m----> 9\u001b[1;33m \u001b[0mdeletecontact\u001b[0m\u001b[1;33m(\u001b[0m\u001b[1;34m\"name2\"\u001b[0m\u001b[1;33m)\u001b[0m\u001b[1;33m\u001b[0m\u001b[1;33m\u001b[0m\u001b[0m\n\u001b[0m\u001b[0;32m     10\u001b[0m \u001b[1;33m\u001b[0m\u001b[0m\n",
      "\u001b[1;32m<ipython-input-44-def3856a6e75>\u001b[0m in \u001b[0;36mdeletecontact\u001b[1;34m(contact)\u001b[0m\n\u001b[0;32m      2\u001b[0m \u001b[1;33m\u001b[0m\u001b[0m\n\u001b[0;32m      3\u001b[0m \u001b[1;32mdef\u001b[0m \u001b[0mdeletecontact\u001b[0m\u001b[1;33m(\u001b[0m\u001b[0mcontact\u001b[0m\u001b[1;33m)\u001b[0m\u001b[1;33m:\u001b[0m\u001b[1;33m\u001b[0m\u001b[1;33m\u001b[0m\u001b[0m\n\u001b[1;32m----> 4\u001b[1;33m     \u001b[0mcontact\u001b[0m\u001b[1;33m.\u001b[0m\u001b[0mpop\u001b[0m\u001b[1;33m(\u001b[0m\u001b[0mcontact\u001b[0m\u001b[1;33m)\u001b[0m\u001b[1;33m\u001b[0m\u001b[1;33m\u001b[0m\u001b[0m\n\u001b[0m\u001b[0;32m      5\u001b[0m     \u001b[0mprint\u001b[0m\u001b[1;33m(\u001b[0m\u001b[0mlen\u001b[0m\u001b[1;33m(\u001b[0m\u001b[0mcontact\u001b[0m\u001b[1;33m.\u001b[0m\u001b[0mkey\u001b[0m\u001b[1;33m(\u001b[0m\u001b[1;33m)\u001b[0m\u001b[1;33m)\u001b[0m\u001b[1;33m,\u001b[0m \u001b[1;34m\"contact deleted successfully\"\u001b[0m\u001b[1;33m)\u001b[0m\u001b[1;33m\u001b[0m\u001b[1;33m\u001b[0m\u001b[0m\n\u001b[0;32m      6\u001b[0m     \u001b[1;32mreturn\u001b[0m\u001b[1;33m\u001b[0m\u001b[1;33m\u001b[0m\u001b[0m\n",
      "\u001b[1;31mAttributeError\u001b[0m: 'str' object has no attribute 'pop'"
     ]
    }
   ],
   "source": [
    "#contact = {}\n",
    "\n",
    "def deletecontact(contact):\n",
    "    if name is contact\n",
    "    contact.pop(\"name2\")\n",
    "    print(len(contact.key()), \"contact deleted successfully\")\n",
    "    return\n",
    "\n",
    "#deletecontact = {\"name\":934793479}\n",
    "deletecontact(\"name2\")\n",
    "        "
   ]
  },
  {
   "cell_type": "code",
   "execution_count": null,
   "metadata": {},
   "outputs": [],
   "source": []
  },
  {
   "cell_type": "markdown",
   "metadata": {},
   "source": [
    "### Package and Modules\n",
    "\n",
    "packages -> collection of modules(python file.py and sub-packages)\n",
    "**sub package** -->\n",
    "\n",
    "**module** -> a single python file containing function\n",
    "\n",
    "package -> sub-packages -> modules -> function\n"
   ]
  },
  {
   "cell_type": "code",
   "execution_count": 53,
   "metadata": {},
   "outputs": [
    {
     "data": {
      "text/plain": [
       "3"
      ]
     },
     "execution_count": 53,
     "metadata": {},
     "output_type": "execute_result"
    }
   ],
   "source": [
    "from math import floor as fl\n",
    "\n",
    "fl(math.pi)\n",
    "\n",
    "#math.pi"
   ]
  },
  {
   "cell_type": "code",
   "execution_count": 59,
   "metadata": {},
   "outputs": [
    {
     "name": "stdout",
     "output_type": "stream",
     "text": [
      "33 92 78 83 51 17 19 70 11 94 "
     ]
    }
   ],
   "source": [
    "# function to generate N random number\n",
    "\n",
    "import random\n",
    "\n",
    "def generateNrandomnumber(n,lb,ub):\n",
    "    for i in range(0,n):\n",
    "        print(random.randint(lb,ub), end=\" \")\n",
    "        \n",
    "generateNrandomnumber(10, 0, 100)"
   ]
  },
  {
   "cell_type": "code",
   "execution_count": null,
   "metadata": {},
   "outputs": [],
   "source": []
  },
  {
   "cell_type": "code",
   "execution_count": 10,
   "metadata": {},
   "outputs": [
    {
     "data": {
      "text/plain": [
       "2"
      ]
     },
     "execution_count": 10,
     "metadata": {},
     "output_type": "execute_result"
    }
   ],
   "source": [
    "from packages import numerical\n",
    "\n",
    "numerical.numberprimefactors(1000)"
   ]
  },
  {
   "cell_type": "code",
   "execution_count": null,
   "metadata": {},
   "outputs": [],
   "source": []
  }
 ],
 "metadata": {
  "kernelspec": {
   "display_name": "Python 3",
   "language": "python",
   "name": "python3"
  },
  "language_info": {
   "codemirror_mode": {
    "name": "ipython",
    "version": 3
   },
   "file_extension": ".py",
   "mimetype": "text/x-python",
   "name": "python",
   "nbconvert_exporter": "python",
   "pygments_lexer": "ipython3",
   "version": "3.7.3"
  }
 },
 "nbformat": 4,
 "nbformat_minor": 2
}
