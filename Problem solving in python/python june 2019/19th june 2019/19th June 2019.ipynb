{
 "cells": [
  {
   "cell_type": "code",
   "execution_count": 3,
   "metadata": {},
   "outputs": [
    {
     "name": "stdout",
     "output_type": "stream",
     "text": [
      "2\n",
      "2\n",
      "11 MS\n",
      "57\n",
      "52 AS\n"
     ]
    }
   ],
   "source": [
    "# seating arrangement \n",
    "\n",
    "t=int(input())\n",
    "for i in range(1,t+1):\n",
    "    seatnum=int(input())\n",
    "    n=(seatnum-1)//12\n",
    "    if seatnum%3==2:\n",
    "        s=\"MS\"\n",
    "    elif seatnum%6<2:\n",
    "        s=\"WS\"\n",
    "    else:\n",
    "        s=\"AS\"\n",
    "    print(24*n+13-seatnum,s)"
   ]
  },
  {
   "cell_type": "code",
   "execution_count": 4,
   "metadata": {},
   "outputs": [
    {
     "name": "stdout",
     "output_type": "stream",
     "text": [
      "Hello Kirti\n"
     ]
    }
   ],
   "source": [
    "print(\"Hello Kirti\")"
   ]
  },
  {
   "cell_type": "code",
   "execution_count": null,
   "metadata": {},
   "outputs": [],
   "source": []
  }
 ],
 "metadata": {
  "kernelspec": {
   "display_name": "Python 3",
   "language": "python",
   "name": "python3"
  },
  "language_info": {
   "codemirror_mode": {
    "name": "ipython",
    "version": 3
   },
   "file_extension": ".py",
   "mimetype": "text/x-python",
   "name": "python",
   "nbconvert_exporter": "python",
   "pygments_lexer": "ipython3",
   "version": "3.7.3"
  }
 },
 "nbformat": 4,
 "nbformat_minor": 2
}
