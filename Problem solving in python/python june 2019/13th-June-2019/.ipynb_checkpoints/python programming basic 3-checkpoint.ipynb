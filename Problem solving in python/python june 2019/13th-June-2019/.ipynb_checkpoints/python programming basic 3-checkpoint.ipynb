{
 "cells": [
  {
   "cell_type": "code",
   "execution_count": 19,
   "metadata": {},
   "outputs": [
    {
     "name": "stdout",
     "output_type": "stream",
     "text": [
      "1920 1924 1928 1932 1936 1940 1944 1948 1952 1956 1960 1964 1968 1972 1976 1980 1984 1988 1992 1996 2000 2004 2008 2012 2016 "
     ]
    }
   ],
   "source": [
    "# function to genreate all leap year in a given time period\n",
    "# 2000 - 2020 -> 2000 2004 2008 2012 2016 2020\n",
    "\n",
    "def leapyear(a): # to check if a given year is a leap year\n",
    "    if a%4 == 0 or (a%400 == 0 and a%100!=0):\n",
    "        return True\n",
    "    return False\n",
    "        \n",
    "#leapyear(2000,2020)\n",
    "def generateLeapYear(lb,ub):\n",
    "    for a in range(lb,ub+1):\n",
    "        if leapyear(a):\n",
    "            print(a, end=\" \")\n",
    "    return\n",
    "        \n",
    "generateLeapYear(1919,2019)\n",
    "        "
   ]
  },
  {
   "cell_type": "code",
   "execution_count": 26,
   "metadata": {},
   "outputs": [
    {
     "data": {
      "text/plain": [
       "7305"
      ]
     },
     "execution_count": 26,
     "metadata": {},
     "output_type": "execute_result"
    }
   ],
   "source": [
    "# calculate days in given time range using leap year\n",
    "# for every year in the given time period, if the year is not a leap yearb\n",
    "def days(lb,ub):\n",
    "    sum = 0\n",
    "    for a in range(lb,ub):\n",
    "        if leapyear(a):\n",
    "            sum = sum + 366\n",
    "        else:\n",
    "            sum =  sum + 365\n",
    "    return sum\n",
    "\n",
    "days(2000,2020)"
   ]
  },
  {
   "cell_type": "code",
   "execution_count": 2,
   "metadata": {},
   "outputs": [],
   "source": [
    "# function to calculate number of hours for given period\n",
    "# (11,1975,3,1999)\n",
    "# [all days from feb 2016 to dec 2016,\n",
    "#   all days for years between 2016 and 2019,\n",
    "#    all day from jan to june 2019]\n",
    "# no of hours = 24 * no of days\n",
    "# 3 steps\n",
    "# step 1 : start month year to endof year -  calculate no of days\n",
    "# step 2: calculate days for all years between start year ans end year exclusive\n",
    "                # 2017, 20108 - 365n * no of years\n",
    "# step 3: calculate the days from jan to end of the month year\n",
    "# first six month - 1,3,4,6,7\n",
    "                    # all odd month have 31 days\n",
    "                    # all even month have 30 days\n",
    "# last six months - 8,9,10,11,12\n",
    "                    # all odd month have 31 days\n",
    "                    # all even month have 30 days\n",
    "    #31 days -(month <= 7 and month % 2 != 0  and month != 2)|| (month)\n",
    "    # return 31\n",
    "    # else\n",
    "# return 30\n",
    "\n",
    "def numberofdaymonth(month):\n",
    "    if month <= 7 and month % 2 != 0:\n",
    "        return 31\n",
    "    else:\n",
    "        return 30"
   ]
  },
  {
   "cell_type": "code",
   "execution_count": null,
   "metadata": {},
   "outputs": [],
   "source": []
  }
 ],
 "metadata": {
  "kernelspec": {
   "display_name": "Python 3",
   "language": "python",
   "name": "python3"
  },
  "language_info": {
   "codemirror_mode": {
    "name": "ipython",
    "version": 3
   },
   "file_extension": ".py",
   "mimetype": "text/x-python",
   "name": "python",
   "nbconvert_exporter": "python",
   "pygments_lexer": "ipython3",
   "version": "3.7.3"
  }
 },
 "nbformat": 4,
 "nbformat_minor": 2
}
