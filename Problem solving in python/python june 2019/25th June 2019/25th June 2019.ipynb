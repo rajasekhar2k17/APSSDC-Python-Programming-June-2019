{
 "cells": [
  {
   "cell_type": "code",
   "execution_count": 1,
   "metadata": {},
   "outputs": [],
   "source": [
    "import re\n",
    "\n",
    "def phoneNumberValidator(number):\n",
    "    pattern = '^[6-9][0-9]{9}$|^[0][6-9][0-9]{9}|^[+][9][1][6-9][0-9]{9}$'\n",
    "    if re.match(pattern, str(number)):\n",
    "        return True\n",
    "    return False\n",
    "\n",
    "def emailValidator(email):\n",
    "    pattern = \"^[0-9a-z][0-9a-z_.]{4,13}[0-9a-z][@][a-z0-9]{3,18}[.][a-z]{2,4}$\"\n",
    "    if re.match(pattern, email):\n",
    "        return True\n",
    "    return False\n",
    "#emailValidator(\"rajasekhar@gmail.com\")"
   ]
  },
  {
   "cell_type": "code",
   "execution_count": 4,
   "metadata": {},
   "outputs": [],
   "source": [
    "def contact_exists(name):\n",
    "    filename='DataFIles/contact.txt'\n",
    "    with open(filename,'r') as f:\n",
    "        p=name+','\n",
    "        fd=f.read()\n",
    "        return re.search(p,fd)"
   ]
  },
  {
   "cell_type": "code",
   "execution_count": 5,
   "metadata": {},
   "outputs": [],
   "source": [
    "def addContact(name,phone,email):\n",
    "    filepath='DataFIles/contact.txt'\n",
    "    if not contact_exists():\n",
    "        if emailValidator(email) and phoneNumberValidation(phone):\n",
    "            with open(filepath,'a') as f:\n",
    "                line=name+','+str(phone)+','+email+'\\n'\n",
    "                f.write(line)\n",
    "            print(name,\"contact is added successfully\")\n",
    "        else:\n",
    "            print('email or phone is valid')\n",
    "    else:\n",
    "        print(name,'already exists')\n",
    "    return"
   ]
  },
  {
   "cell_type": "raw",
   "metadata": {},
   "source": [
    "# search contact\n",
    "\n",
    "def searchContact(name):with open(filepath,'r') as f:\n",
    "    filepath='DataFIles/contact.txt'\n",
    "    if contact_exists(name):\n",
    "        with open(filepath,'r') as f:\n",
    "        fd=f.readline()\n",
    "        lis=list(fd)\n",
    "        print(fd)\n",
    "        p='[\\n]'\n",
    "        lis=re.split(p,fd)\n",
    "        con=[]\n",
    "        for i in range(len(lis)):\n",
    "            con=lis[i].split(',')\n",
    "            print(con)\n",
    "            if name in con:\n",
    "                return con\n",
    "    else:\n",
    "        print(\"contact not exist\")\n",
    "        return\n",
    "\n",
    "    "
   ]
  },
  {
   "cell_type": "code",
   "execution_count": 8,
   "metadata": {},
   "outputs": [],
   "source": [
    "def searchContact2(name):\n",
    "    filepath='DataFiles\\contact.txt'\n",
    "    if contact_exists(name):\n",
    "        with open(filepath,'r') as f:\n",
    "            for i in f:\n",
    "                i = i.split(',')\n",
    "                if i[0] == name:\n",
    "                    print(i[0],i[1],i[2])\n",
    "                else:\n",
    "                    print(\"contact not exist\")\n",
    "#searchContact2(\"bbe\")"
   ]
  },
  {
   "cell_type": "code",
   "execution_count": null,
   "metadata": {},
   "outputs": [],
   "source": [
    "def listContact():\n",
    "    filepath='DataFiles\\contact.txt'\n",
    "    with open(filepath,'r') as f:\n",
    "        if len(f) != 0:\n",
    "            for i in f.read().:\n",
    "                i=i.split(',')\n",
    "                print(i[0],i[1],i[2])\n",
    "        else:\n",
    "            print('empty list of contacts')\n",
    "    return"
   ]
  }
 ],
 "metadata": {
  "kernelspec": {
   "display_name": "Python 3",
   "language": "python",
   "name": "python3"
  },
  "language_info": {
   "codemirror_mode": {
    "name": "ipython",
    "version": 3
   },
   "file_extension": ".py",
   "mimetype": "text/x-python",
   "name": "python",
   "nbconvert_exporter": "python",
   "pygments_lexer": "ipython3",
   "version": "3.7.3"
  }
 },
 "nbformat": 4,
 "nbformat_minor": 2
}
