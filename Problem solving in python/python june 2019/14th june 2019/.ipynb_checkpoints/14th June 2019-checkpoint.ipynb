{
 "cells": [
  {
   "cell_type": "markdown",
   "metadata": {},
   "source": [
    "## Python Data Structure\n",
    "   ###    -     LIsts\n",
    "   ### -     Tuples\n",
    "   ### -     Dictionaries\n",
    "## Basic Problem set on Data  Structure \n",
    "## Advanced Problem Set\n",
    "## Packages and modules in Python### "
   ]
  },
  {
   "cell_type": "code",
   "execution_count": null,
   "metadata": {},
   "outputs": [],
   "source": []
  },
  {
   "cell_type": "markdown",
   "metadata": {},
   "source": [
    "## Python Data structure"
   ]
  },
  {
   "cell_type": "markdown",
   "metadata": {},
   "source": [
    "### list"
   ]
  },
  {
   "cell_type": "code",
   "execution_count": 31,
   "metadata": {},
   "outputs": [
    {
     "data": {
      "text/plain": [
       "456.0"
      ]
     },
     "execution_count": 31,
     "metadata": {},
     "output_type": "execute_result"
    }
   ],
   "source": [
    "li = [123,978, 654]\n",
    "li # access the entir list\n",
    "li[1] # access an element with index in alist\n",
    "\n",
    "li[1:] # access all elements from second element \n",
    "\n",
    "li = li[::-1] # access the list in reverse order\n",
    "\n",
    "li\n",
    "\n",
    "li = li[::-1]\n",
    " \n",
    "li\n",
    "\n",
    "li[::2] # accessing even index element \n",
    "\n",
    "li[1::2]\n",
    "\n",
    "#lists can be accessed, manipulated in two \n",
    "    # direct reference - [index]\n",
    "    # indirect refernce - through functions\n",
    "    \n",
    "li.append(345) # adding an element to end of the list\n",
    "\n",
    "li\n",
    "\n",
    "li.insert(1,234)# adding an element at a particular index\n",
    "\n",
    "li\n",
    "\n",
    "li.sort() # sort element in ascending order\n",
    "li\n",
    "\n",
    "li.pop()  # remove the last element in the list\n",
    "li\n",
    "\n",
    "li.pop(1) # remove the a particular element in the list\n",
    "li\n",
    "\n",
    "li2 = [234,456,789]\n",
    "\n",
    "li.extend(li2) # merge list 2 into list 1\n",
    "li\n",
    "\n",
    "sum(li)\n",
    "\n",
    "max(li)\n",
    "\n",
    "len(li)\n",
    "\n",
    "# average of list elements\n",
    "sum(li)/len(li)\n",
    "\n",
    "# average of alternate elements\n",
    "sum(li[1::2])/len(li[1::2])\n",
    "\n"
   ]
  },
  {
   "cell_type": "code",
   "execution_count": 43,
   "metadata": {},
   "outputs": [
    {
     "data": {
      "text/plain": [
       "[234, 1234, 6345, 456, 678, 912]"
      ]
     },
     "execution_count": 43,
     "metadata": {},
     "output_type": "execute_result"
    }
   ],
   "source": [
    "li = [234, 1234, 6345,456,678, 912]\n",
    "li"
   ]
  },
  {
   "cell_type": "code",
   "execution_count": 46,
   "metadata": {},
   "outputs": [
    {
     "data": {
      "text/plain": [
       "456"
      ]
     },
     "execution_count": 46,
     "metadata": {},
     "output_type": "execute_result"
    }
   ],
   "source": [
    "# how to identify the second largest element in a list\n",
    "    # sort the data and select the second largest number\n",
    "    # sort the datain reverse order, and select \n",
    "    # remove the max element and tehn get the\n",
    "#li = [12, 38, 32, 78, 56]\n",
    "#new_list = set(li)\n",
    "#new_list.remove(max(new_list))\n",
    "#print(max(new_list))\n",
    " \n",
    "def secondlargest(li):\n",
    "    li.sort()\n",
    "    return li[-2]\n",
    "\n",
    "# function that reutrns the nth largest\n",
    "def genericlargest(li,n):\n",
    "    li.sort()\n",
    "    return li[-n]\n",
    "\n",
    "secondlargest(li)\n",
    "genericlargest(li,5)\n",
    "    \n",
    "    "
   ]
  },
  {
   "cell_type": "code",
   "execution_count": null,
   "metadata": {},
   "outputs": [],
   "source": []
  },
  {
   "cell_type": "code",
   "execution_count": 75,
   "metadata": {},
   "outputs": [
    {
     "data": {
      "text/plain": [
       "4"
      ]
     },
     "execution_count": 75,
     "metadata": {},
     "output_type": "execute_result"
    }
   ],
   "source": [
    "# function to search for data in a list\n",
    "# search for the key in the list and return the index value\n",
    "def linearsearch(li, key):\n",
    "    for i in range(0, len(li)):\n",
    "        if li[i] == key:\n",
    "            return i\n",
    "        \n",
    "linearsearch(li, 1234)\n"
   ]
  },
  {
   "cell_type": "code",
   "execution_count": 66,
   "metadata": {},
   "outputs": [
    {
     "data": {
      "text/plain": [
       "3"
      ]
     },
     "execution_count": 66,
     "metadata": {},
     "output_type": "execute_result"
    }
   ],
   "source": [
    "def ls2(li,key):\n",
    "    for element in li:\n",
    "        if element == key:\n",
    "            return li.index(element)\n",
    "    return -1\n",
    "ls2(li,912)\n",
    "    \n",
    "\n"
   ]
  },
  {
   "cell_type": "code",
   "execution_count": 67,
   "metadata": {},
   "outputs": [
    {
     "data": {
      "text/plain": [
       "[234, 456, 678, 912, 1234, 6345]"
      ]
     },
     "execution_count": 67,
     "metadata": {},
     "output_type": "execute_result"
    }
   ],
   "source": [
    "li"
   ]
  },
  {
   "cell_type": "code",
   "execution_count": 68,
   "metadata": {},
   "outputs": [
    {
     "data": {
      "text/plain": [
       "2"
      ]
     },
     "execution_count": 68,
     "metadata": {},
     "output_type": "execute_result"
    }
   ],
   "source": [
    "def ls3(li, key): # 3rd method of linear search\n",
    "    if key in li:\n",
    "        return li.index(key)\n",
    "    return -1\n",
    "ls3(li,678)\n",
    "        "
   ]
  },
  {
   "cell_type": "code",
   "execution_count": 71,
   "metadata": {},
   "outputs": [
    {
     "data": {
      "text/plain": [
       "2"
      ]
     },
     "execution_count": 71,
     "metadata": {},
     "output_type": "execute_result"
    }
   ],
   "source": [
    "# function to count the occurances of a character in a string\n",
    "# \"python programming\" , m -> 2\n",
    "\n",
    "def countchar(char, subchar):\n",
    "    count = 0\n",
    "    for ch in char:\n",
    "        if ch == subchar:\n",
    "            count += 1\n",
    "    return count\n",
    "\n",
    "#def countchar2(s,c):\n",
    " #   return s.count(c)\n",
    "\n",
    "countchar2(\"python programming\", \"m\")\n",
    "    \n",
    "            "
   ]
  },
  {
   "cell_type": "code",
   "execution_count": 73,
   "metadata": {},
   "outputs": [
    {
     "data": {
      "text/plain": [
       "0"
      ]
     },
     "execution_count": 73,
     "metadata": {},
     "output_type": "execute_result"
    }
   ],
   "source": [
    "# function to find the number of occurance of a sub string in a string\n",
    "# \"abcdabcbcda\", \"a\" -> 2\n",
    "def substring(c,s):\n",
    "    string.count()\n",
    " #   count = 0\n",
    "  #  for ch in c:\n",
    "   #     if ch == s:\n",
    "    #        count += 1\n",
    "    #return count\n",
    "\n",
    "\n",
    "substring(\"abcabcdbdac\", \"ab\")"
   ]
  },
  {
   "cell_type": "code",
   "execution_count": 76,
   "metadata": {},
   "outputs": [
    {
     "data": {
      "text/plain": [
       "[1, 2, 3, 4, 5, 6]"
      ]
     },
     "execution_count": 76,
     "metadata": {},
     "output_type": "execute_result"
    }
   ],
   "source": [
    "#Practice test\n",
    "#1. first line contain size of the array \n",
    "#second line contain arry elemnet\n",
    "#       n = int(input())\n",
    "s = \"1 2 3 4 5 6\"\n",
    "li = s.split()\n",
    "numberlist = []\n",
    "for i in li:\n",
    "    numberlist.append(int(i))\n",
    "numberlist"
   ]
  },
  {
   "cell_type": "code",
   "execution_count": 78,
   "metadata": {},
   "outputs": [
    {
     "name": "stdout",
     "output_type": "stream",
     "text": [
      "3\n"
     ]
    },
    {
     "data": {
      "text/plain": [
       "14"
      ]
     },
     "execution_count": 78,
     "metadata": {},
     "output_type": "execute_result"
    }
   ],
   "source": [
    "\n",
    "n = int(input())\n",
    "def sumsquarenaturalnumber(n):\n",
    "    sum = 0\n",
    "    for i in range(1, n+1):\n",
    "        sum = sum + i ** 2\n",
    "    return sum\n",
    "\n",
    "sumsquarenaturalnumber(n)\n",
    "        "
   ]
  },
  {
   "cell_type": "code",
   "execution_count": 83,
   "metadata": {},
   "outputs": [
    {
     "name": "stdout",
     "output_type": "stream",
     "text": [
      "76\n",
      "87 23 45 98 12 76\n"
     ]
    },
    {
     "data": {
      "text/plain": [
       "[87, 23, 45, 98, 12, 76]"
      ]
     },
     "execution_count": 83,
     "metadata": {},
     "output_type": "execute_result"
    }
   ],
   "source": [
    "n = int(input())\n",
    "s= input()\n",
    "s = s.split()\n",
    "#\" 1 2 3 4 5 \"\n",
    "li = []\n",
    "\n",
    "for i in s:\n",
    "    li.append(int(i))\n",
    "li"
   ]
  },
  {
   "cell_type": "code",
   "execution_count": null,
   "metadata": {},
   "outputs": [],
   "source": []
  },
  {
   "cell_type": "code",
   "execution_count": null,
   "metadata": {},
   "outputs": [],
   "source": []
  }
 ],
 "metadata": {
  "kernelspec": {
   "display_name": "Python 3",
   "language": "python",
   "name": "python3"
  },
  "language_info": {
   "codemirror_mode": {
    "name": "ipython",
    "version": 3
   },
   "file_extension": ".py",
   "mimetype": "text/x-python",
   "name": "python",
   "nbconvert_exporter": "python",
   "pygments_lexer": "ipython3",
   "version": "3.7.3"
  }
 },
 "nbformat": 4,
 "nbformat_minor": 2
}
