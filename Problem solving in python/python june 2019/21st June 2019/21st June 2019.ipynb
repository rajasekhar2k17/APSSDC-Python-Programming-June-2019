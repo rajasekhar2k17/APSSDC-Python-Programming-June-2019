{
 "cells": [
  {
   "cell_type": "code",
   "execution_count": 30,
   "metadata": {},
   "outputs": [
    {
     "name": "stdout",
     "output_type": "stream",
     "text": [
      "name1 added to contacts\n"
     ]
    }
   ],
   "source": [
    "# function to add contact to contacts text files\n",
    "import re\n",
    "\n",
    "from Packages import validators\n",
    "\n",
    "def addcontact(name, phone, email):\n",
    "    # store data as name,phone,email in the contact\n",
    "    filename = 'DataFiles/contacts.txt'\n",
    "    if not checkcontactexists(name):\n",
    "        with open(filename,'a') as f:\n",
    "            line = name +','+str(phone)+','+email+'\\n'\n",
    "            f.write(line)\n",
    "        print(name,'added to contacts')\n",
    "    else:\n",
    "        print(name,'already exists contact')\n",
    "    return\n",
    "\n",
    "addcontact(\"name1\",7855311345, \"name1_1@gmail.com\")"
   ]
  },
  {
   "cell_type": "markdown",
   "metadata": {},
   "source": []
  },
  {
   "cell_type": "code",
   "execution_count": 31,
   "metadata": {},
   "outputs": [
    {
     "name": "stdout",
     "output_type": "stream",
     "text": [
      "True\n"
     ]
    }
   ],
   "source": [
    "# function to check if contact alredy exists\n",
    "#from Packages import validators\n",
    "import re\n",
    "\n",
    "def checkcontactexists(name):\n",
    "    filename = 'DataFiles/contacts.txt'\n",
    "    with open(filename,'r')as f:\n",
    "        filedata = f.read()\n",
    "        pattern = '^'+'(name)'\n",
    "    return re.search(name,filedata)\n",
    "    \n",
    "if checkcontactexists(\"name1\"):\n",
    "    print(True)\n",
    "else:\n",
    "    print(False)"
   ]
  },
  {
   "cell_type": "code",
   "execution_count": null,
   "metadata": {},
   "outputs": [],
   "source": []
  },
  {
   "cell_type": "raw",
   "metadata": {},
   "source": [
    "# how to convert the entire file to list\n",
    "filename = 'DataFiles/contacts.txt'\n",
    "def csvtolist(filname):\n",
    "    li = []\n",
    "    with open(filename,'r')as f:\n",
    "        for line in f:\n",
    "            li.append(line.split(','))\n",
    "        return li\n",
    "csvtolist(filename)\n",
    "\n",
    "def listtofile(li):\n",
    "    s = ''\n",
    "    for i in li:\n",
    "        s += s.join(i)\n",
    "    return s\n",
    "li = csvtolist(filename)\n",
    "#csvtolist(li)\n",
    "listtofile(li)\n",
    "\n"
   ]
  },
  {
   "cell_type": "code",
   "execution_count": null,
   "metadata": {},
   "outputs": [],
   "source": []
  },
  {
   "cell_type": "code",
   "execution_count": 32,
   "metadata": {},
   "outputs": [
    {
     "data": {
      "text/plain": [
       "[['name5', '7855344345', 'name5_5@gmail.com\\n'],\n",
       " ['name1', '7855311345', 'name1_1@gmail.com\\n']]"
      ]
     },
     "execution_count": 32,
     "metadata": {},
     "output_type": "execute_result"
    }
   ],
   "source": [
    "# files to list\n",
    "\n",
    "def contacts2List(name):\n",
    "    ls = []\n",
    "    with open(name,'r') as f:\n",
    "        for line in f:\n",
    "            ls.append(line.split(','))\n",
    "    return ls\n",
    "ls = contacts2List('DataFiles/contacts.txt')\n",
    "ls"
   ]
  },
  {
   "cell_type": "code",
   "execution_count": 33,
   "metadata": {},
   "outputs": [
    {
     "data": {
      "text/plain": [
       "'name5,7855344345,name5_5@gmail.com\\n,name1,7855311345,name1_1@gmail.com\\n,'"
      ]
     },
     "execution_count": 33,
     "metadata": {},
     "output_type": "execute_result"
    }
   ],
   "source": [
    "# converting list to contacts\n",
    "\n",
    "def list2Contacts(ls):\n",
    "    s = ''\n",
    "    for i in range(0,len(ls)):\n",
    "        lls = ls[i]\n",
    "        for j in range(0,len(lls)):\n",
    "            s+=str(lls[j])+','\n",
    "    return s\n",
    "list2Contacts(ls)"
   ]
  },
  {
   "cell_type": "code",
   "execution_count": 34,
   "metadata": {},
   "outputs": [],
   "source": [
    "# saving to a file\n",
    "\n",
    "def save2File(s):\n",
    "    with open(\"datafiles/contacts.txt\",'w') as f:\n",
    "        f.write(s)\n",
    "        print(\"Data updated...\")"
   ]
  },
  {
   "cell_type": "code",
   "execution_count": 36,
   "metadata": {},
   "outputs": [],
   "source": [
    "\n",
    "# Edit the Contacts in a file\n",
    "\n",
    "def editContact(name,number,email):\n",
    "    ls = contacts2List('datafiles/contacts.txt')\n",
    "    for i in range(0,len(ls)):\n",
    "        lss = ls[i]\n",
    "        for j in range(0,len(lss)):\n",
    "            if(name == lss[j]):\n",
    "                lss[0] = name\n",
    "                lss[1] = number\n",
    "                lss[2] = email\n",
    "                print(name,\" Updated..\")    \n",
    "            else:\n",
    "                print(\"not updated\")\n",
    "    s=list2Contacts(ls)\n",
    "    save2File(s)\n",
    "    return s"
   ]
  },
  {
   "cell_type": "code",
   "execution_count": 37,
   "metadata": {},
   "outputs": [
    {
     "name": "stdout",
     "output_type": "stream",
     "text": [
      "not updated\n",
      "not updated\n",
      "not updated\n",
      "name1  Updated..\n",
      "not updated\n",
      "not updated\n",
      "Data updated...\n"
     ]
    },
    {
     "data": {
      "text/plain": [
       "'name5,7855344345,name5_5@gmail.com\\n,name1,82374651989,mani@gmail.com,'"
      ]
     },
     "execution_count": 37,
     "metadata": {},
     "output_type": "execute_result"
    }
   ],
   "source": [
    "temp = editContact('name1',82374651989,'mani@gmail.com')\n",
    "temp"
   ]
  },
  {
   "cell_type": "code",
   "execution_count": 38,
   "metadata": {},
   "outputs": [
    {
     "data": {
      "text/plain": [
       "[['name5', '7855344345', 'name5_5@gmail.com\\n'],\n",
       " ['', 'name1', '82374651989', 'mani@gmail.com', '']]"
      ]
     },
     "execution_count": 38,
     "metadata": {},
     "output_type": "execute_result"
    }
   ],
   "source": [
    "filename = 'datafiles/contacts.txt'\n",
    "def csvlist(filename):\n",
    "    li = []\n",
    "    with open(filename,'r') as f:\n",
    "        for line in f:\n",
    "            li.append(line.split(','))\n",
    "    return li\n",
    "csvlist(filename)"
   ]
  },
  {
   "cell_type": "code",
   "execution_count": 39,
   "metadata": {},
   "outputs": [
    {
     "data": {
      "text/plain": [
       "'name5,7855344345,name5_5@gmail.com\\n,name1,82374651989,mani@gmail.com,'"
      ]
     },
     "execution_count": 39,
     "metadata": {},
     "output_type": "execute_result"
    }
   ],
   "source": [
    "filename = 'datafiles/contacts.txt'\n",
    "def csvToList(filename):\n",
    "    li = []\n",
    "    with open(filename, 'r') as f:\n",
    "        for line in f:\n",
    "            li.append(line.split(','))\n",
    "    return li\n",
    "\n",
    "def listToFile(li):\n",
    "    s = ''\n",
    "    for i in li:\n",
    "        s += ','.join(i)\n",
    "    return s\n",
    "    \n",
    "li = csvToList(filename)\n",
    "listToFile(li)"
   ]
  },
  {
   "cell_type": "code",
   "execution_count": 40,
   "metadata": {},
   "outputs": [],
   "source": [
    "\n",
    "#Delete the contact\n",
    "def deleteContact(name):\n",
    "    ls = contacts2List('datafiles/contacts.txt')\n",
    "    for i in range(0,len(ls)):\n",
    "        lss = ls[i]\n",
    "        for j in range(0,len(lss)):\n",
    "            if(name == lss[j]):\n",
    "                ls.pop(i)\n",
    "                print(name,\" Deleted..\")    \n",
    "            else:\n",
    "                print(\"not Deleted\")\n",
    "    s=list2Contacts(ls)\n",
    "    save2File(s)\n",
    "    return s"
   ]
  },
  {
   "cell_type": "code",
   "execution_count": 41,
   "metadata": {},
   "outputs": [
    {
     "name": "stdout",
     "output_type": "stream",
     "text": [
      "not Deleted\n",
      "not Deleted\n",
      "not Deleted\n",
      "not Deleted\n",
      "name1  Deleted..\n",
      "not Deleted\n",
      "not Deleted\n",
      "not Deleted\n",
      "Data updated...\n"
     ]
    },
    {
     "data": {
      "text/plain": [
       "'name5,7855344345,name5_5@gmail.com\\n,'"
      ]
     },
     "execution_count": 41,
     "metadata": {},
     "output_type": "execute_result"
    }
   ],
   "source": [
    "deleteContact('name1')"
   ]
  },
  {
   "cell_type": "code",
   "execution_count": null,
   "metadata": {},
   "outputs": [],
   "source": []
  }
 ],
 "metadata": {
  "kernelspec": {
   "display_name": "Python 3",
   "language": "python",
   "name": "python3"
  },
  "language_info": {
   "codemirror_mode": {
    "name": "ipython",
    "version": 3
   },
   "file_extension": ".py",
   "mimetype": "text/x-python",
   "name": "python",
   "nbconvert_exporter": "python",
   "pygments_lexer": "ipython3",
   "version": "3.7.3"
  }
 },
 "nbformat": 4,
 "nbformat_minor": 2
}
