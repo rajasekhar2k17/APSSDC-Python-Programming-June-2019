{
 "cells": [
  {
   "cell_type": "code",
   "execution_count": 15,
   "metadata": {},
   "outputs": [
    {
     "name": "stdout",
     "output_type": "stream",
     "text": [
      "name2 already exists contact\n"
     ]
    }
   ],
   "source": [
    "# function to add contact to contacts text files\n",
    "import re\n",
    "\n",
    "from Packages import validators\n",
    "\n",
    "def addcontact(name, phone, email):\n",
    "    # store data as name,phone,email in the contact\n",
    "    filename = 'DataFiles/contacts.txt'\n",
    "    if not checkcontactexists(name):\n",
    "        with open(filename,'a') as f:\n",
    "            line = name +','+str(phone)+','+email+'\\n'\n",
    "            f.write(line)\n",
    "        print(name,'added to contacts')\n",
    "    else:\n",
    "        print(name,'already exists contact')\n",
    "    return\n",
    "\n",
    "addcontact(\"name2\",9898764345, \"namo1_23@gmail.com\")"
   ]
  },
  {
   "cell_type": "code",
   "execution_count": null,
   "metadata": {},
   "outputs": [],
   "source": []
  },
  {
   "cell_type": "code",
   "execution_count": 10,
   "metadata": {},
   "outputs": [
    {
     "name": "stdout",
     "output_type": "stream",
     "text": [
      "True\n"
     ]
    }
   ],
   "source": [
    "# function to check if contact alredy exists\n",
    "#from Packages import validators\n",
    "import re\n",
    "\n",
    "def checkcontactexists(name):\n",
    "    filename = 'DataFiles/contacts.txt'\n",
    "    with open(filename,'r')as f:\n",
    "        filedata = f.read()\n",
    "        pattern = '^'+'(name)'\n",
    "    return re.search(name,filedata)\n",
    "    \n",
    "if checkcontactexists(\"name1\"):\n",
    "    print(True)\n",
    "else:\n",
    "    print(False)"
   ]
  },
  {
   "cell_type": "code",
   "execution_count": null,
   "metadata": {},
   "outputs": [],
   "source": []
  },
  {
   "cell_type": "code",
   "execution_count": 18,
   "metadata": {},
   "outputs": [
    {
     "data": {
      "text/plain": [
       "'name18798764345name1_23@gmail.com\\nname2name18798764345name1_23@gmail.com\\n8798764345name18798764345name1_23@gmail.com\\nname1_23@gmail.com\\n'"
      ]
     },
     "execution_count": 18,
     "metadata": {},
     "output_type": "execute_result"
    }
   ],
   "source": [
    "# how to convert the entire file to list\n",
    "filename = 'DataFiles/contacts.txt'\n",
    "def csvtolist(filname):\n",
    "    li = []\n",
    "    with open(filename,'r')as f:\n",
    "        for line in f:\n",
    "            li.append(line.split(','))\n",
    "        return li\n",
    "csvtolist(filename)\n",
    "\n",
    "def listtofile(li):\n",
    "    s = ''\n",
    "    for i in li:\n",
    "        s += s.join(i)\n",
    "    return s\n",
    "li = csvtolist(filename)\n",
    "#csvtolist(li)\n",
    "listtofile(li)\n",
    "\n"
   ]
  },
  {
   "cell_type": "code",
   "execution_count": null,
   "metadata": {},
   "outputs": [],
   "source": []
  }
 ],
 "metadata": {
  "kernelspec": {
   "display_name": "Python 3",
   "language": "python",
   "name": "python3"
  },
  "language_info": {
   "codemirror_mode": {
    "name": "ipython",
    "version": 3
   },
   "file_extension": ".py",
   "mimetype": "text/x-python",
   "name": "python",
   "nbconvert_exporter": "python",
   "pygments_lexer": "ipython3",
   "version": "3.7.3"
  }
 },
 "nbformat": 4,
 "nbformat_minor": 2
}
