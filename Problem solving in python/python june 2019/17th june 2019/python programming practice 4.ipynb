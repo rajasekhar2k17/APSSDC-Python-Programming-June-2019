{
 "cells": [
  {
   "cell_type": "code",
   "execution_count": null,
   "metadata": {},
   "outputs": [
    {
     "name": "stdout",
     "output_type": "stream",
     "text": [
      "2\n",
      "1 44 2 14\n",
      "0 30\n"
     ]
    }
   ],
   "source": [
    "# function to calculate time difference as of total number\n",
    "\n",
    "#s=\" 1 44 2 14\"\n",
    "\n",
    "def duration(s):\n",
    "    s = s.split()\n",
    "    sh = int(s[0])\n",
    "    sm = int(s[1])\n",
    "    eh = int(s[2])\n",
    "    em = int(s[3])\n",
    "    startminutes = (sh * 60) + sm\n",
    "    endminutes = (eh * 60) + em\n",
    "    return endminutes - startminutes\n",
    "\n",
    "def outtimeformat(minutes):\n",
    "    # convert the time minutes into HH MM\n",
    "    hh = minutes // 60\n",
    "    mm = minutes % 60\n",
    "    print(hh,mm)\n",
    "    return\n",
    "\n",
    "n = int(input())\n",
    "for i in range(0,n):\n",
    "    s = input()\n",
    "    minutes = duration(s)\n",
    "    outtimeformat(minutes)\n"
   ]
  },
  {
   "cell_type": "code",
   "execution_count": 3,
   "metadata": {},
   "outputs": [
    {
     "name": "stdout",
     "output_type": "stream",
     "text": [
      "raj@9347\n",
      "4\n",
      "3\n"
     ]
    }
   ],
   "source": [
    "# counting the char and digit\n",
    "\n",
    "def countofdigit(s):\n",
    "    charcount = 0\n",
    "    digitcount = 0\n",
    "    for i in range(0,len(s)):\n",
    "        if((s[i]>='a' and s[i] <='z') or (s[i]>='A' and s[i]<='Z')):\n",
    "            charcount = charcount+1\n",
    "        elif(s[i]>='0' and s[i]<='9'):\n",
    "            digitcount = digitcount+1\n",
    "    print(digitcount)\n",
    "    print(charcount)\n",
    "    \n",
    "s=input()\n",
    "countofdigit(s)"
   ]
  },
  {
   "cell_type": "code",
   "execution_count": 1,
   "metadata": {},
   "outputs": [
    {
     "name": "stdout",
     "output_type": "stream",
     "text": [
      "2\n",
      "6\n",
      "YES\n",
      "3\n",
      "NO\n"
     ]
    }
   ],
   "source": [
    "def factors(n):\n",
    "    s=0\n",
    "    for i in range(1,n):\n",
    "        if(n%i==0):\n",
    "            s=s+i\n",
    "    if(n==s):\n",
    "        return \"YES\"\n",
    "    else:\n",
    "        return \"NO\"\n",
    "testcases=int(input())\n",
    "for i in range(testcases):\n",
    "    n=int(input())\n",
    "    print(factors(n))"
   ]
  },
  {
   "cell_type": "code",
   "execution_count": 3,
   "metadata": {},
   "outputs": [
    {
     "name": "stdout",
     "output_type": "stream",
     "text": [
      "2 5 8 11 14 17 20 23 26 29 32 35 38 41 44 "
     ]
    }
   ],
   "source": [
    "# divisible by 3\n",
    "def divisible(n):\n",
    "    for i in range(1, n+1):\n",
    "        if(i%3 >1):\n",
    "            print(i,end=\" \")\n",
    "divisible(45)"
   ]
  },
  {
   "cell_type": "code",
   "execution_count": 7,
   "metadata": {},
   "outputs": [
    {
     "name": "stdout",
     "output_type": "stream",
     "text": [
      "7\n"
     ]
    }
   ],
   "source": [
    "# prime number\n",
    "def prime(n):\n",
    "    c=0\n",
    "    for i in range(1,n+1):\n",
    "        if(n%i==0):\n",
    "            c=c+1\n",
    "    if(c==2):\n",
    "        print(n)\n",
    "prime(7)"
   ]
  },
  {
   "cell_type": "code",
   "execution_count": null,
   "metadata": {},
   "outputs": [],
   "source": []
  }
 ],
 "metadata": {
  "kernelspec": {
   "display_name": "Python 3",
   "language": "python",
   "name": "python3"
  },
  "language_info": {
   "codemirror_mode": {
    "name": "ipython",
    "version": 3
   },
   "file_extension": ".py",
   "mimetype": "text/x-python",
   "name": "python",
   "nbconvert_exporter": "python",
   "pygments_lexer": "ipython3",
   "version": "3.7.3"
  }
 },
 "nbformat": 4,
 "nbformat_minor": 2
}
