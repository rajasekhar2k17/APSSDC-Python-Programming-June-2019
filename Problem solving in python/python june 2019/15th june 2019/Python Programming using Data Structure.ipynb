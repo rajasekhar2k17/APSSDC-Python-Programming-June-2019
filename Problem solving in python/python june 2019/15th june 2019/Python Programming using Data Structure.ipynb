{
 "cells": [
  {
   "cell_type": "markdown",
   "metadata": {},
   "source": [
    "# 15th June 2019"
   ]
  },
  {
   "cell_type": "markdown",
   "metadata": {},
   "source": [
    "###  Problem in moct test"
   ]
  },
  {
   "cell_type": "markdown",
   "metadata": {},
   "source": [
    "# closet to zero\n",
    " question : you have been give integer array A of size N . oyu need to print \n",
    "\n",
    " Explanation\n",
    " li = [3,2,-1,-2,-3] (original list)\n",
    " - sort the data\n",
    " - li = [-3, -2, -1,2, 3] (sorted list)\n",
    " - pl = [1, 2, 2, 3, 3]  (positive list)\n",
    " - pl[0] -> check if this number is -ve or +ve in the \n",
    " - if pl[0] in li:\n",
    "     - return pl[0]\n",
    " - else\n",
    "     - return -pl[0]\n",
    " \n"
   ]
  },
  {
   "cell_type": "code",
   "execution_count": 6,
   "metadata": {},
   "outputs": [
    {
     "name": "stdout",
     "output_type": "stream",
     "text": [
      "-1\n"
     ]
    }
   ],
   "source": [
    "#n =  int(input())\n",
    "\n",
    "li =  [-1, -2, 2,3]\n",
    "\n",
    "li.sort()\n",
    "\n",
    "pl = []\n",
    "\n",
    "for i in li:\n",
    "    pl.append(abs(i))\n",
    "  \n",
    "pl.sort()\n",
    "#pl\n",
    "if pl[0] in li:\n",
    "    print(pl[0])\n",
    "else:\n",
    "    print(-pl[0])\n",
    "    "
   ]
  },
  {
   "cell_type": "markdown",
   "metadata": {},
   "source": [
    "### FarthestfromZero"
   ]
  },
  {
   "cell_type": "code",
   "execution_count": 13,
   "metadata": {},
   "outputs": [
    {
     "name": "stdout",
     "output_type": "stream",
     "text": [
      "-10\n"
     ]
    }
   ],
   "source": [
    "li = [-1, -2, 1 ,-10, 9]\n",
    "\n",
    "pl = []\n",
    "\n",
    "for i in li:\n",
    "        pl.append(abs(i))\n",
    "pl.sort()\n",
    "        \n",
    "if pl[-1] in li:\n",
    "    print(pl[-1])\n",
    "else:\n",
    "    print(-pl[-1])"
   ]
  },
  {
   "cell_type": "markdown",
   "metadata": {},
   "source": [
    "### problem - 3\n",
    "you are given thre numbers a,b,c \n",
    "write a proram to find the largest number\n",
    "which is less than or equal to c and leaves\n",
    "remainder b when divied by a."
   ]
  },
  {
   "cell_type": "code",
   "execution_count": 17,
   "metadata": {},
   "outputs": [
    {
     "data": {
      "text/plain": [
       "8"
      ]
     },
     "execution_count": 17,
     "metadata": {},
     "output_type": "execute_result"
    }
   ],
   "source": [
    "def cal(a, b, c):\n",
    "    for i in range(c,a-1,-1):\n",
    "        if i % a == b:\n",
    "            return i\n",
    "    return -1\n",
    "cal(3,2,9)\n",
    "            \n",
    "    \n",
    "\n",
    "\n"
   ]
  },
  {
   "cell_type": "markdown",
   "metadata": {},
   "source": [
    "# Hackererth practice"
   ]
  },
  {
   "cell_type": "code",
   "execution_count": 3,
   "metadata": {},
   "outputs": [
    {
     "name": "stdout",
     "output_type": "stream",
     "text": [
      "3\n",
      "6\n"
     ]
    }
   ],
   "source": [
    "# Factorial program\n",
    "\n",
    "n = int(input())\n",
    "def fact(n):\n",
    "    fact = 1 \n",
    "    for i in range(1,n+1):\n",
    "        fact = fact * i\n",
    "        i *= 1\n",
    "    print(fact)\n",
    "\n",
    "fact(n)"
   ]
  },
  {
   "cell_type": "markdown",
   "metadata": {},
   "source": [
    "You have been given 3 integers - l, r and k. Find how many numbers between l and r (both inclusive) are divisible by k. You do not need to print these numbers, you just have to find their count.\n",
    "\n",
    "Input Format\n",
    "The first and only line of input contains 3 space separated integers l, r and k.\n",
    "\n",
    "Output Format\n",
    "Print the required answer on a single line.\n",
    "\n",
    "Constraints\n",
    " \n",
    "\n",
    "SAMPLE INPUT \n",
    "1 10 1\n",
    "SAMPLE OUTPUT \n",
    "10"
   ]
  },
  {
   "cell_type": "code",
   "execution_count": 5,
   "metadata": {},
   "outputs": [
    {
     "name": "stdout",
     "output_type": "stream",
     "text": [
      "1 10 1\n",
      "10\n"
     ]
    }
   ],
   "source": [
    "def countD(i,j,k):\n",
    "    count = 0\n",
    "    for n in range(i,j+1):\n",
    "        if n % k == 0:\n",
    "            count += 1\n",
    "            \n",
    "    print(count)\n",
    "s = input()\n",
    "s = s.split()\n",
    "i = int(s[0])\n",
    "j = int(s[1])\n",
    "k = int(s[2])\n",
    "countD(i,j,k)"
   ]
  },
  {
   "cell_type": "markdown",
   "metadata": {},
   "source": [
    "You have been given a String S consisting of uppercase and lowercase English alphabets. You need to change the case of each alphabet in this String. That is, all the uppercase letters should be converted to lowercase and all the lowercase letters should be converted to uppercase. You need to then print the resultant String to output.\n",
    "\n",
    "Input Format\n",
    "The first and only line of input contains the String S\n",
    "\n",
    "Output Format\n",
    "Print the resultant String on a single line.\n",
    "\n",
    "Constraints\n",
    " where S denotes the length of string S.\n",
    "\n",
    "SAMPLE INPUT \n",
    "abcdE\n",
    "SAMPLE OUTPUT \n",
    "ABCDe"
   ]
  },
  {
   "cell_type": "code",
   "execution_count": 6,
   "metadata": {},
   "outputs": [
    {
     "name": "stdout",
     "output_type": "stream",
     "text": [
      "skadnKNI\n",
      "SKADNkni\n"
     ]
    }
   ],
   "source": [
    "n = input()\n",
    "\n",
    "def toggle(n):\n",
    "    print(n.swapcase())\n",
    "\n",
    "toggle(n)"
   ]
  },
  {
   "cell_type": "code",
   "execution_count": 7,
   "metadata": {},
   "outputs": [
    {
     "name": "stdout",
     "output_type": "stream",
     "text": [
      "skfnSDJNK\n",
      "SKFNsdjnk"
     ]
    }
   ],
   "source": [
    "# toggle string\n",
    "def a(n):\n",
    "    for i in n:\n",
    "        if  i == i.upper():\n",
    "            a = i.lower()\n",
    "        elif i == i.lower():\n",
    "            a = i.upper()\n",
    "        print(a,end=\"\")\n",
    "n = input()\n",
    "a(n)"
   ]
  },
  {
   "cell_type": "code",
   "execution_count": 16,
   "metadata": {},
   "outputs": [
    {
     "name": "stdout",
     "output_type": "stream",
     "text": [
      "madam\n",
      "yes\n"
     ]
    }
   ],
   "source": [
    "#palindrome\n",
    "def b(s):\n",
    "    if s == s[::-1]:\n",
    "        print(\"yes\")\n",
    "    else:\n",
    "        print(\"no\")\n",
    "s = input()\n",
    "b(s)"
   ]
  },
  {
   "cell_type": "code",
   "execution_count": 43,
   "metadata": {},
   "outputs": [
    {
     "name": "stdout",
     "output_type": "stream",
     "text": [
      "9\n",
      "2 3 5 7 "
     ]
    }
   ],
   "source": [
    "# prime number between interval\n",
    "#a = 11\n",
    "#b = 25\n",
    "\n",
    "a = 1\n",
    "\n",
    "n  = int(input())\n",
    "\n",
    "for num in range(a, n + 1):   \n",
    "   if num > 1:\n",
    "       for i in range(2, int(num/2)+1):\n",
    "           if (num % i) == 0:\n",
    "               break\n",
    "       else:\n",
    "           print(num,end=\" \")\n",
    "\n",
    "        "
   ]
  },
  {
   "cell_type": "code",
   "execution_count": null,
   "metadata": {},
   "outputs": [
    {
     "name": "stdout",
     "output_type": "stream",
     "text": [
      "5\n",
      "hello oellh\n",
      "YES\n"
     ]
    }
   ],
   "source": [
    "# two string\n",
    "n=int(input())\n",
    "def twostrings(s,t):\n",
    "    f=1\n",
    "    if len(s)!=len(t):\n",
    "        return 'NO'\n",
    "    else:\n",
    "        for i in range (len(s)):\n",
    "            if s.count(s[i])!=t.count(s[i]):\n",
    "                return 'NO'\n",
    "        if f==1:\n",
    "            return 'YES'\n",
    " \n",
    "for i in range(n):\n",
    "    st=input().split()\n",
    "    s=st[0]\n",
    "    t=st[1]\n",
    "    print(twostrings(s,t))\n",
    "        \n",
    "         \n",
    "        "
   ]
  },
  {
   "cell_type": "code",
   "execution_count": 2,
   "metadata": {},
   "outputs": [
    {
     "name": "stdout",
     "output_type": "stream",
     "text": [
      "aba\n",
      "4\n"
     ]
    }
   ],
   "source": [
    "# char sum\n",
    "s=input()\n",
    "def sumChar(s):\n",
    "    sum=0\n",
    "    for i in range(0,len(s)):\n",
    "        if (s[i]>=chr(97)) and (s[i]<=chr(122)):\n",
    "            sum=sum+(ord(s[i])-96)\n",
    "    print(sum)\n",
    "sumChar(s)"
   ]
  },
  {
   "cell_type": "code",
   "execution_count": 8,
   "metadata": {},
   "outputs": [
    {
     "data": {
      "text/plain": [
       "'RAJASEKHAR'"
      ]
     },
     "execution_count": 8,
     "metadata": {},
     "output_type": "execute_result"
    }
   ],
   "source": [
    "# Function to  toggle  string character\n",
    "\n",
    "s = \"RaJaSeKhAr\"\n",
    "s.isupper()\n",
    "s.islower()\n",
    "\n",
    "s.lower() # convert a char to lower case\n",
    "s.upper() # convert a character to upper case\n",
    "\n",
    "\n",
    "\n"
   ]
  },
  {
   "cell_type": "code",
   "execution_count": 12,
   "metadata": {},
   "outputs": [
    {
     "data": {
      "text/plain": [
       "'rAjAsEkHaR'"
      ]
     },
     "execution_count": 12,
     "metadata": {},
     "output_type": "execute_result"
    }
   ],
   "source": [
    "# function to toggle string character\n",
    "\n",
    "def togglestring(s):\n",
    "    # convert the string into a list of \n",
    "    s = list(s)\n",
    "    t = []\n",
    "    for c in s:\n",
    "        if c.islower():\n",
    "            t.append(c.upper())\n",
    "        else:\n",
    "            t.append(c.lower())\n",
    "    return \"\".join(t)\n",
    "\n",
    "togglestring(\"RaJaSeKhAr\")"
   ]
  },
  {
   "cell_type": "markdown",
   "metadata": {},
   "source": [
    "# function to duration \n",
    "input : start time , end time (HH MM)\n",
    "hh - {00,01,02,03 ...12}\n",
    "mm - {00,01,02,03,...60}\n",
    "#### output\n",
    "the time differnece HH MM\n"
   ]
  },
  {
   "cell_type": "code",
   "execution_count": null,
   "metadata": {},
   "outputs": [],
   "source": [
    "# function to calculate the time differnece\n"
   ]
  }
 ],
 "metadata": {
  "kernelspec": {
   "display_name": "Python 3",
   "language": "python",
   "name": "python3"
  },
  "language_info": {
   "codemirror_mode": {
    "name": "ipython",
    "version": 3
   },
   "file_extension": ".py",
   "mimetype": "text/x-python",
   "name": "python",
   "nbconvert_exporter": "python",
   "pygments_lexer": "ipython3",
   "version": "3.7.3"
  }
 },
 "nbformat": 4,
 "nbformat_minor": 2
}
